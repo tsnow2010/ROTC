{
 "cells": [
  {
   "cell_type": "code",
   "execution_count": null,
   "metadata": {
    "colab": {
     "base_uri": "https://localhost:8080/",
     "height": 222
    },
    "id": "57WlcoF44X7H",
    "outputId": "4cfb3361-53a8-4cfd-d829-f11ba0d88bc1"
   },
   "outputs": [],
   "source": [
    "# This program creates CSV files that can easily be used to provide land navigation point assignments for ROTC training.\n",
    "# Requires properly formated CSV files.  \n",
    "# Please see the repository for examples.\n",
    "\n",
    "# By Tyler Snow"
   ]
  },
  {
   "cell_type": "code",
   "execution_count": null,
   "metadata": {},
   "outputs": [],
   "source": [
    "import itertools\n",
    "import random\n",
    "import csv\n",
    "import json"
   ]
  },
  {
   "cell_type": "code",
   "execution_count": null,
   "metadata": {},
   "outputs": [],
   "source": [
    "# Constants\n",
    "num_train_points = 6 # Number of points trainees are looking for\n",
    "train_name = 'Land Navigation Training 1' # Name of training event"
   ]
  },
  {
   "cell_type": "code",
   "execution_count": null,
   "metadata": {},
   "outputs": [],
   "source": [
    "# Step 1: Upload names of cadet trainees.\n",
    "names = []\n",
    "\n",
    "with open('Trainee_Names.csv', 'r') as file:\n",
    "    reader = csv.reader(file)\n",
    "    next(reader) # Skip column name\n",
    "    for row in reader:\n",
    "        names.append(row.pop())\n",
    "\n",
    "num_cdts = len(names)"
   ]
  },
  {
   "cell_type": "code",
   "execution_count": null,
   "metadata": {},
   "outputs": [],
   "source": [
    "# Step 2: Pull land navigation points from CSV file and create dictionary.\n",
    "points = {}\n",
    "with open('LN_Points.csv', 'r') as file:\n",
    "    reader = csv.reader(file)\n",
    "    next(reader)\n",
    "    for row in reader:\n",
    "        points[row[2]] = [{'key': row[1]}, {'coordinates': row[0]}]\n",
    "        \n",
    "tot_num_points = len(points) # total number of points in CSV file\n",
    "\n",
    "# Print one element in \"points\"\n",
    "#print(points['1'])"
   ]
  },
  {
   "cell_type": "code",
   "execution_count": null,
   "metadata": {},
   "outputs": [],
   "source": [
    "# Step 3: Randomize the sets of points that each cadet is given\n",
    "# Create unique combinations of points into sets\n",
    "combinations = itertools.combinations(range(1,tot_num_points),int(num_train_points))\n",
    "\n",
    "# Sets of points that will be distributed to cadets\n",
    "point_decks = random.sample(sorted(combinations),num_cdts)\n",
    "\n",
    "# Print \"point_decks\"\n",
    "print(point_decks)"
   ]
  },
  {
   "cell_type": "code",
   "execution_count": null,
   "metadata": {
    "id": "IAK2aPna6fOc"
   },
   "outputs": [],
   "source": [
    "# Step 4: Create CSV file with cadet point assignments\n",
    "with open(f'{train_name} Land Navigation Assignments.csv','w', newline= '') as file:\n",
    "    writer = csv.writer(file)\n",
    "    for cdt in range(0,num_cdts):\n",
    "        point_deck = point_decks[cdt]\n",
    "        coordinates = []\n",
    "        for point in point_deck:\n",
    "            coordinates.append(points[str(point)][1]['coordinates'])\n",
    "        coordinates.insert(0, f'Cadet {names[cdt]}')\n",
    "        writer.writerow(coordinates)"
   ]
  },
  {
   "cell_type": "code",
   "execution_count": null,
   "metadata": {},
   "outputs": [],
   "source": [
    "# Step 5: Create CSV file with cadet point answer key\n",
    "with open(f'{train_name} Land Navigation Assignments (Answer Key).csv','w', newline= '') as file:\n",
    "    writer = csv.writer(file)\n",
    "    for cdt in range(0,num_cdts):\n",
    "        point_deck = point_decks[cdt]\n",
    "        keys = []\n",
    "        for point in point_deck:\n",
    "            keys.append(points[str(point)][0]['key'] + f' ({point})')\n",
    "        keys.insert(0, f'Cadet {names[cdt]}')\n",
    "        writer.writerow(keys)"
   ]
  }
 ],
 "metadata": {
  "colab": {
   "provenance": []
  },
  "kernelspec": {
   "display_name": "Python 3 (ipykernel)",
   "language": "python",
   "name": "python3"
  },
  "language_info": {
   "codemirror_mode": {
    "name": "ipython",
    "version": 3
   },
   "file_extension": ".py",
   "mimetype": "text/x-python",
   "name": "python",
   "nbconvert_exporter": "python",
   "pygments_lexer": "ipython3",
   "version": "3.12.4"
  }
 },
 "nbformat": 4,
 "nbformat_minor": 4
}
