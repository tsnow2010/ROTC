{
 "cells": [
  {
   "cell_type": "code",
   "execution_count": null,
   "id": "59d4c8c4-52aa-4c6a-9163-21892b5cfea3",
   "metadata": {},
   "outputs": [],
   "source": [
    "# Imports\n",
    "from ultralytics import YOLO\n",
    "import os\n",
    "from pathlib import Path\n",
    "import skimage as ski\n",
    "import AMMVRP "
   ]
  },
  {
   "cell_type": "markdown",
   "id": "13d285b2-1255-4cb0-84e0-37c4a32bf8e4",
   "metadata": {},
   "source": [
    "#### Step 0: Create YOLO 1.1 formatted directory and files"
   ]
  },
  {
   "cell_type": "code",
   "execution_count": null,
   "id": "b8a52ca2-aae3-4a0d-9713-ed7183208b48",
   "metadata": {},
   "outputs": [],
   "source": [
    "class_names = ['your','class','names']\n",
    "\n",
    "# Create directory\n",
    "AMMVRP.create_yolo_1_1_dir(class_names)\n",
    "\n",
    "# Example:\n",
    "# create_yolo_1_1_dir(\n",
    "#     class_names = [\"TNK\", \"APC\", \"ICBM\", \"IMV\", \"SPH\", \"MLRS\",\n",
    "#     \"SRBM\", \"UAVC\", \"SAM\", \"IFV\", \"CT\", \"SC\"\n",
    "#     ]\n",
    "# )"
   ]
  },
  {
   "cell_type": "code",
   "execution_count": null,
   "id": "26b8af6d-3f42-4192-af31-37361838f003",
   "metadata": {},
   "outputs": [],
   "source": [
    "# After adding images to your dataset directories, below lines create <<'val' | 'train' | 'test'>>.txt files.\n",
    "AMMVRP.gen_txt_file('train')\n",
    "#gen_txt_file('val')\n",
    "#gen_txt_file('test')"
   ]
  },
  {
   "cell_type": "markdown",
   "id": "21691647-3851-41bb-9379-6c57f68b891c",
   "metadata": {},
   "source": [
    "### Step 1: Train the YOLO v11 Model with Validation\n",
    "> - Load base YOLO model (v11) and begin training model on custom dataset"
   ]
  },
  {
   "cell_type": "code",
   "execution_count": null,
   "id": "e7b174bb-97f3-470f-a6ba-b8b805e6baa3",
   "metadata": {},
   "outputs": [],
   "source": [
    "#train_num = '' # if the latest run is not blank\n",
    "\n",
    "model = YOLO(\n",
    "    \"yolo11n.pt\"  # to start custom dataset training, the lightest version of v11, n = nano\n",
    "    #f'{AMMVRP.proj_path}/runs/detect/train{train_num}/weights/last.pt'  # if resuming last iteration of training\n",
    "    )  \n",
    "results = model.train(\n",
    "    data=\"config.yaml\", \n",
    "    epochs=25, \n",
    "    device='mps', # mps: Apple silicon GPU\n",
    "    imgsz = 640,\n",
    "    val = True,\n",
    "    patience = 75, # will stop training at X epochs if performance isn't improving significantly\n",
    "    #### Augmentation Parameters ####\n",
    "    hsv_h=1.0,  # Hue Adjustment\n",
    "    hsv_s=1.0,  # Saturation Adjustment\n",
    "    hsv_v=1.0,  # Brightness Adjustment\n",
    "    degrees = 180, # Rotations\n",
    "    pretrained=True #load previous weights, not resuming\n",
    "    #translate=0.0,\n",
    "    #scale=0.0,\n",
    "    #fliplr=0.0,\n",
    "    #mosaic=0.0,\n",
    "    #erasing=0.0,\n",
    "    #auto_augment=None,\n",
    "    #### Other Parameters ####\n",
    "    #resume = True  # if resuming last iteration of training\n",
    "    ) "
   ]
  },
  {
   "cell_type": "markdown",
   "id": "da1dee06-f2ca-4ea4-8932-5f83a572102f",
   "metadata": {},
   "source": [
    "#### Step 1.5: Auto Annotate Images for val and test datasets"
   ]
  },
  {
   "cell_type": "code",
   "execution_count": null,
   "id": "f9783613-5b11-45b4-b835-db4180a5a908",
   "metadata": {},
   "outputs": [],
   "source": [
    "dataset = 'val' #'val' | 'test'\n",
    "train_num = '' # number of \"train\" directory with most updated weights\n",
    "\n",
    "auto_annotate_no_SAM(\n",
    "    data=f'{AMMVRP.proj_path}/auto_annotate/{dataset}',  # folder or list of image paths\n",
    "    det_model=f'{AMMVRP.proj_path}/runs/detect/train{train_num}/weights/best.pt',  # pretrained detection model\n",
    "    device=\"mps\",  # or \"cpu\"\n",
    "    output_dir=f'{AMMVRP.proj_path}/auto_annotate/test/labels',\n",
    "    conf=.6,\n",
    "    max_det = 5\n",
    ")"
   ]
  },
  {
   "cell_type": "markdown",
   "id": "9a1495c6",
   "metadata": {},
   "source": [
    "#### Step 2: Validation"
   ]
  },
  {
   "cell_type": "code",
   "execution_count": null,
   "id": "3d6b3eb8",
   "metadata": {},
   "outputs": [],
   "source": [
    "# Run validation and set parameters\n",
    "#conf=.35\n",
    "iou=0\n",
    "model = YOLO(f'{AMMVRP.proj_path}/runs/detect/train/weights/best.pt')  # load a custom model\n",
    "\n",
    "for conf in [.2,.35,.5,.7]:\n",
    "    metrics = model.val(\n",
    "        data=\"config.yaml\", # to use test dataset for post-training model comparison ('test.yaml')\n",
    "        imgsz = 640,\n",
    "        conf=conf,\n",
    "        iou=iou, # Intersection Over Union (IoU) threshold for Non-Maximum Suppression (NMS). range= 0(no overlap) - 1 (overlap)\n",
    "        max_det=5, # max_num detections\n",
    "        device='mps', # mps=Apple silicon, default='cpu' \n",
    "        augment=True,  # Enables test-time augmentation (TTA) for predictions, improves detection robustness at the cost of inference speed.\n",
    "        plots = True,\n",
    "        project = 'val_runs',\n",
    "        name = f'conf_{conf}_iou{iou}',\n",
    "        verbose = True\n",
    "    )"
   ]
  },
  {
   "cell_type": "markdown",
   "id": "4dcbc67d-e428-4a9f-9e6e-c350f6d58f9e",
   "metadata": {},
   "source": [
    "#### Step 3: Test"
   ]
  },
  {
   "cell_type": "code",
   "execution_count": null,
   "id": "c360ef1e-d848-456a-b8a1-2fc9778471b6",
   "metadata": {},
   "outputs": [],
   "source": [
    "# Test model with \"test\" dataset and find resulting, annotated images in ../runs/detect/predict\n",
    "\n",
    "train_num = '' # number of \"train\" directory with most updated weights\n",
    "\n",
    "model = YOLO(f'{AMMVRP.proj_path}/runs/detect/train{train_num}/weights/best.pt')  # load most updated YOLO model\n",
    "\n",
    "# Run test and set parameters\n",
    "conf=.35\n",
    "iou=0\n",
    "\n",
    "results = model.predict(\n",
    "    source=f'{AMMVRP.proj_path}/test', \n",
    "    conf=conf, # minimum confidence threshold\n",
    "    iou=iou, # Intersection Over Union (IoU) threshold for Non-Maximum Suppression (NMS). range= 0(no overlap) - 1 (overlap)\n",
    "    max_det=5, # max_num detections\n",
    "    device='mps', # mps=Apple silicon, default='cpu'\n",
    "    name=f'predict_conf_{conf}_iou_{iou}',\n",
    "    save=True, \n",
    "    augment=True  # Enables test-time augmentation (TTA) for predictions, improves detection robustness at the cost of inference speed.\n",
    ")"
   ]
  },
  {
   "cell_type": "code",
   "execution_count": null,
   "id": "165a9004-8e4c-4d71-ab21-30550610b5f9",
   "metadata": {},
   "outputs": [],
   "source": []
  }
 ],
 "metadata": {
  "kernelspec": {
   "display_name": "Python 3 (ipykernel)",
   "language": "python",
   "name": "python3"
  },
  "language_info": {
   "codemirror_mode": {
    "name": "ipython",
    "version": 3
   },
   "file_extension": ".py",
   "mimetype": "text/x-python",
   "name": "python",
   "nbconvert_exporter": "python",
   "pygments_lexer": "ipython3",
   "version": "3.12.4"
  }
 },
 "nbformat": 4,
 "nbformat_minor": 5
}
