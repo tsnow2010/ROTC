{
 "cells": [
  {
   "cell_type": "code",
   "execution_count": 8,
   "id": "59d4c8c4-52aa-4c6a-9163-21892b5cfea3",
   "metadata": {},
   "outputs": [],
   "source": [
    "# Imports\n",
    "import gdown # Google Drive access\n",
    "from ultralytics import YOLO\n",
    "import os\n"
   ]
  },
  {
   "cell_type": "code",
   "execution_count": null,
   "id": "35f3eec3-7072-40a2-a84a-26d2245dc182",
   "metadata": {},
   "outputs": [],
   "source": [
    "# Download complete project files, e.j. datasets, model, etc.\n",
    "url = 'https://drive.google.com/drive/folders/14gRwlFZqonKp-r0zILjoot14qcBhs_Rz?usp=sharing'\n",
    "gdown.download_folder(url)"
   ]
  },
  {
   "cell_type": "code",
   "execution_count": null,
   "id": "79f63c55-d3c3-4ee7-9b90-c0951d87486a",
   "metadata": {},
   "outputs": [],
   "source": [
    "#### Functions to create directory in YOLO 1.1 format for importing to CVAT"
   ]
  },
  {
   "cell_type": "code",
   "execution_count": null,
   "id": "d024842e-3172-4738-9984-94e578d08e8e",
   "metadata": {},
   "outputs": [],
   "source": [
    "# Use this CLI command on Mac to zip folder correctly for CVAT: % zip -r archive_test2.zip test2 -x \"*/__MACOSX/*\" \"*/.DS_Store\""
   ]
  },
  {
   "cell_type": "markdown",
   "id": "21691647-3851-41bb-9379-6c57f68b891c",
   "metadata": {},
   "source": [
    "### Step 1: Train the YOLO v11 Model"
   ]
  },
  {
   "cell_type": "code",
   "execution_count": 10,
   "id": "e7b174bb-97f3-470f-a6ba-b8b805e6baa3",
   "metadata": {},
   "outputs": [
    {
     "name": "stdout",
     "output_type": "stream",
     "text": [
      "New https://pypi.org/project/ultralytics/8.3.178 available 😃 Update with 'pip install -U ultralytics'\n",
      "Ultralytics 8.3.177 🚀 Python-3.12.4 torch-2.7.1 MPS (Apple M2 Pro)\n",
      "\u001b[34m\u001b[1mengine/trainer: \u001b[0magnostic_nms=False, amp=True, augment=False, auto_augment=randaugment, batch=16, bgr=0.0, box=7.5, cache=False, cfg=None, classes=None, close_mosaic=10, cls=0.5, conf=None, copy_paste=0.0, copy_paste_mode=flip, cos_lr=False, cutmix=0.0, data=config.yaml, degrees=0.0, deterministic=True, device=mps, dfl=1.5, dnn=False, dropout=0.0, dynamic=False, embed=None, epochs=300, erasing=0.4, exist_ok=False, fliplr=0.5, flipud=0.0, format=torchscript, fraction=1.0, freeze=None, half=False, hsv_h=0.015, hsv_s=0.7, hsv_v=0.4, imgsz=640, int8=False, iou=0.7, keras=False, kobj=1.0, line_width=None, lr0=0.01, lrf=0.01, mask_ratio=4, max_det=300, mixup=0.0, mode=train, model=/Users/snowgtyler/Downloads/Military Vehicles Project/runs/detect/train/weights/last.pt, momentum=0.937, mosaic=1.0, multi_scale=False, name=train, nbs=64, nms=False, opset=None, optimize=False, optimizer=auto, overlap_mask=True, patience=100, perspective=0.0, plots=True, pose=12.0, pretrained=True, profile=False, project=None, rect=False, resume=/Users/snowgtyler/Downloads/Military Vehicles Project/runs/detect/train/weights/last.pt, retina_masks=False, save=True, save_conf=False, save_crop=False, save_dir=runs/detect/train, save_frames=False, save_json=False, save_period=-1, save_txt=False, scale=0.5, seed=0, shear=0.0, show=False, show_boxes=True, show_conf=True, show_labels=True, simplify=True, single_cls=False, source=None, split=val, stream_buffer=False, task=detect, time=None, tracker=botsort.yaml, translate=0.1, val=True, verbose=True, vid_stride=1, visualize=False, warmup_bias_lr=0.0, warmup_epochs=3.0, warmup_momentum=0.8, weight_decay=0.0005, workers=0, workspace=None\n",
      "\n",
      "                   from  n    params  module                                       arguments                     \n",
      "  0                  -1  1       464  ultralytics.nn.modules.conv.Conv             [3, 16, 3, 2]                 \n",
      "  1                  -1  1      4672  ultralytics.nn.modules.conv.Conv             [16, 32, 3, 2]                \n",
      "  2                  -1  1      6640  ultralytics.nn.modules.block.C3k2            [32, 64, 1, False, 0.25]      \n",
      "  3                  -1  1     36992  ultralytics.nn.modules.conv.Conv             [64, 64, 3, 2]                \n",
      "  4                  -1  1     26080  ultralytics.nn.modules.block.C3k2            [64, 128, 1, False, 0.25]     \n",
      "  5                  -1  1    147712  ultralytics.nn.modules.conv.Conv             [128, 128, 3, 2]              \n",
      "  6                  -1  1     87040  ultralytics.nn.modules.block.C3k2            [128, 128, 1, True]           \n",
      "  7                  -1  1    295424  ultralytics.nn.modules.conv.Conv             [128, 256, 3, 2]              \n",
      "  8                  -1  1    346112  ultralytics.nn.modules.block.C3k2            [256, 256, 1, True]           \n",
      "  9                  -1  1    164608  ultralytics.nn.modules.block.SPPF            [256, 256, 5]                 \n",
      " 10                  -1  1    249728  ultralytics.nn.modules.block.C2PSA           [256, 256, 1]                 \n",
      " 11                  -1  1         0  torch.nn.modules.upsampling.Upsample         [None, 2, 'nearest']          \n",
      " 12             [-1, 6]  1         0  ultralytics.nn.modules.conv.Concat           [1]                           \n",
      " 13                  -1  1    111296  ultralytics.nn.modules.block.C3k2            [384, 128, 1, False]          \n",
      " 14                  -1  1         0  torch.nn.modules.upsampling.Upsample         [None, 2, 'nearest']          \n",
      " 15             [-1, 4]  1         0  ultralytics.nn.modules.conv.Concat           [1]                           \n",
      " 16                  -1  1     32096  ultralytics.nn.modules.block.C3k2            [256, 64, 1, False]           \n",
      " 17                  -1  1     36992  ultralytics.nn.modules.conv.Conv             [64, 64, 3, 2]                \n",
      " 18            [-1, 13]  1         0  ultralytics.nn.modules.conv.Concat           [1]                           \n",
      " 19                  -1  1     86720  ultralytics.nn.modules.block.C3k2            [192, 128, 1, False]          \n",
      " 20                  -1  1    147712  ultralytics.nn.modules.conv.Conv             [128, 128, 3, 2]              \n",
      " 21            [-1, 10]  1         0  ultralytics.nn.modules.conv.Concat           [1]                           \n",
      " 22                  -1  1    378880  ultralytics.nn.modules.block.C3k2            [384, 256, 1, True]           \n",
      " 23        [16, 19, 22]  1    433012  ultralytics.nn.modules.head.Detect           [12, [64, 128, 256]]          \n",
      "YOLO11n summary: 181 layers, 2,592,180 parameters, 2,592,164 gradients, 6.5 GFLOPs\n",
      "\n",
      "Transferred 499/499 items from pretrained weights\n",
      "Freezing layer 'model.23.dfl.conv.weight'\n",
      "\u001b[34m\u001b[1mtrain: \u001b[0mFast image access ✅ (ping: 0.2±0.1 ms, read: 1033.8±368.3 MB/s, size: 780.0 KB)\n"
     ]
    },
    {
     "name": "stderr",
     "output_type": "stream",
     "text": [
      "\u001b[34m\u001b[1mtrain: \u001b[0mScanning /Users/snowgtyler/Downloads/Military Vehicles Project/labels/tra\u001b[0m"
     ]
    },
    {
     "name": "stdout",
     "output_type": "stream",
     "text": [
      "\u001b[34m\u001b[1mval: \u001b[0mFast image access ✅ (ping: 0.0±0.0 ms, read: 1599.6±470.4 MB/s, size: 1339.0 KB)\n"
     ]
    },
    {
     "name": "stderr",
     "output_type": "stream",
     "text": [
      "\n",
      "\u001b[34m\u001b[1mval: \u001b[0mScanning /Users/snowgtyler/Downloads/Military Vehicles Project/labels/train\u001b[0m\n"
     ]
    },
    {
     "name": "stdout",
     "output_type": "stream",
     "text": [
      "Plotting labels to runs/detect/train/labels.jpg... \n",
      "\u001b[34m\u001b[1moptimizer:\u001b[0m 'optimizer=auto' found, ignoring 'lr0=0.01' and 'momentum=0.937' and determining best 'optimizer', 'lr0' and 'momentum' automatically... \n",
      "\u001b[34m\u001b[1moptimizer:\u001b[0m AdamW(lr=0.000625, momentum=0.9) with parameter groups 81 weight(decay=0.0), 88 weight(decay=0.0005), 87 bias(decay=0.0)\n",
      "Resuming training /Users/snowgtyler/Downloads/Military Vehicles Project/runs/detect/train/weights/last.pt from epoch 91 to 300 total epochs\n",
      "Image sizes 640 train, 640 val\n",
      "Using 0 dataloader workers\n",
      "Logging results to \u001b[1mruns/detect/train\u001b[0m\n",
      "Starting training for 300 epochs...\n",
      "\n",
      "      Epoch    GPU_mem   box_loss   cls_loss   dfl_loss  Instances       Size\n"
     ]
    },
    {
     "name": "stderr",
     "output_type": "stream",
     "text": [
      "     91/300      4.89G     0.6192     0.6121     0.9683         26        640: 1\n",
      "                 Class     Images  Instances      Box(P          R      mAP50  m"
     ]
    },
    {
     "name": "stdout",
     "output_type": "stream",
     "text": [
      "                   all        504        631      0.964       0.97       0.99      0.869\n"
     ]
    },
    {
     "name": "stderr",
     "output_type": "stream",
     "text": [
      "\n"
     ]
    },
    {
     "name": "stdout",
     "output_type": "stream",
     "text": [
      "\n",
      "      Epoch    GPU_mem   box_loss   cls_loss   dfl_loss  Instances       Size\n"
     ]
    },
    {
     "name": "stderr",
     "output_type": "stream",
     "text": [
      "     92/300      5.01G       0.62     0.5664     0.9771         19        640: 1\n",
      "                 Class     Images  Instances      Box(P          R      mAP50  m"
     ]
    },
    {
     "name": "stdout",
     "output_type": "stream",
     "text": [
      "                   all        504        631      0.967      0.969      0.989      0.878\n"
     ]
    },
    {
     "name": "stderr",
     "output_type": "stream",
     "text": [
      "\n"
     ]
    },
    {
     "name": "stdout",
     "output_type": "stream",
     "text": [
      "\n",
      "      Epoch    GPU_mem   box_loss   cls_loss   dfl_loss  Instances       Size\n"
     ]
    },
    {
     "name": "stderr",
     "output_type": "stream",
     "text": [
      "     93/300      5.03G     0.6067     0.5658      0.974         23        640: 1\n",
      "                 Class     Images  Instances      Box(P          R      mAP50  m"
     ]
    },
    {
     "name": "stdout",
     "output_type": "stream",
     "text": [
      "                   all        504        631      0.983      0.975      0.991      0.886\n"
     ]
    },
    {
     "name": "stderr",
     "output_type": "stream",
     "text": [
      "\n"
     ]
    },
    {
     "name": "stdout",
     "output_type": "stream",
     "text": [
      "\n",
      "      Epoch    GPU_mem   box_loss   cls_loss   dfl_loss  Instances       Size\n"
     ]
    },
    {
     "name": "stderr",
     "output_type": "stream",
     "text": [
      "     94/300      5.03G     0.5959     0.5815     0.9575         25        640: 1\n",
      "                 Class     Images  Instances      Box(P          R      mAP50  m"
     ]
    },
    {
     "name": "stdout",
     "output_type": "stream",
     "text": [
      "                   all        504        631      0.966      0.985      0.991      0.878\n"
     ]
    },
    {
     "name": "stderr",
     "output_type": "stream",
     "text": [
      "\n"
     ]
    },
    {
     "name": "stdout",
     "output_type": "stream",
     "text": [
      "\n",
      "      Epoch    GPU_mem   box_loss   cls_loss   dfl_loss  Instances       Size\n"
     ]
    },
    {
     "name": "stderr",
     "output_type": "stream",
     "text": [
      "     95/300      5.06G     0.5975     0.5697     0.9805         14        640: 1\n",
      "                 Class     Images  Instances      Box(P          R      mAP50  m"
     ]
    },
    {
     "name": "stdout",
     "output_type": "stream",
     "text": [
      "                   all        504        631      0.978      0.986      0.993      0.887\n"
     ]
    },
    {
     "name": "stderr",
     "output_type": "stream",
     "text": [
      "\n"
     ]
    },
    {
     "name": "stdout",
     "output_type": "stream",
     "text": [
      "\n",
      "      Epoch    GPU_mem   box_loss   cls_loss   dfl_loss  Instances       Size\n"
     ]
    },
    {
     "name": "stderr",
     "output_type": "stream",
     "text": [
      "     96/300       5.1G      0.581     0.5155     0.9587         24        640: 1\n",
      "                 Class     Images  Instances      Box(P          R      mAP50  m"
     ]
    },
    {
     "name": "stdout",
     "output_type": "stream",
     "text": [
      "                   all        504        631      0.981      0.984      0.992       0.88\n"
     ]
    },
    {
     "name": "stderr",
     "output_type": "stream",
     "text": [
      "\n"
     ]
    },
    {
     "name": "stdout",
     "output_type": "stream",
     "text": [
      "\n",
      "      Epoch    GPU_mem   box_loss   cls_loss   dfl_loss  Instances       Size\n"
     ]
    },
    {
     "name": "stderr",
     "output_type": "stream",
     "text": [
      "     97/300      5.06G     0.5983     0.5644      0.985         11        640: 1\n",
      "                 Class     Images  Instances      Box(P          R      mAP50  m"
     ]
    },
    {
     "name": "stdout",
     "output_type": "stream",
     "text": [
      "                   all        504        631      0.972      0.994      0.993      0.881\n"
     ]
    },
    {
     "name": "stderr",
     "output_type": "stream",
     "text": [
      "\n"
     ]
    },
    {
     "name": "stdout",
     "output_type": "stream",
     "text": [
      "\n",
      "      Epoch    GPU_mem   box_loss   cls_loss   dfl_loss  Instances       Size\n"
     ]
    },
    {
     "name": "stderr",
     "output_type": "stream",
     "text": [
      "     98/300      5.05G     0.5912     0.5232     0.9668         15        640: 1\n",
      "                 Class     Images  Instances      Box(P          R      mAP50  m"
     ]
    },
    {
     "name": "stdout",
     "output_type": "stream",
     "text": [
      "                   all        504        631      0.977      0.993      0.991      0.883\n"
     ]
    },
    {
     "name": "stderr",
     "output_type": "stream",
     "text": [
      "\n"
     ]
    },
    {
     "name": "stdout",
     "output_type": "stream",
     "text": [
      "\n",
      "      Epoch    GPU_mem   box_loss   cls_loss   dfl_loss  Instances       Size\n"
     ]
    },
    {
     "name": "stderr",
     "output_type": "stream",
     "text": [
      "     99/300      5.06G     0.5941     0.5268     0.9615         23        640: 1\n",
      "                 Class     Images  Instances      Box(P          R      mAP50  m"
     ]
    },
    {
     "name": "stdout",
     "output_type": "stream",
     "text": [
      "                   all        504        631      0.984      0.984      0.994      0.885\n"
     ]
    },
    {
     "name": "stderr",
     "output_type": "stream",
     "text": [
      "\n"
     ]
    },
    {
     "name": "stdout",
     "output_type": "stream",
     "text": [
      "\n",
      "      Epoch    GPU_mem   box_loss   cls_loss   dfl_loss  Instances       Size\n"
     ]
    },
    {
     "name": "stderr",
     "output_type": "stream",
     "text": [
      "    100/300       4.3G     0.5738     0.5149     0.9634         30        640: 1\n",
      "                 Class     Images  Instances      Box(P          R      mAP50  m"
     ]
    },
    {
     "name": "stdout",
     "output_type": "stream",
     "text": [
      "                   all        504        631      0.976      0.987      0.994      0.884\n"
     ]
    },
    {
     "name": "stderr",
     "output_type": "stream",
     "text": [
      "\n"
     ]
    },
    {
     "name": "stdout",
     "output_type": "stream",
     "text": [
      "\n",
      "      Epoch    GPU_mem   box_loss   cls_loss   dfl_loss  Instances       Size\n"
     ]
    },
    {
     "name": "stderr",
     "output_type": "stream",
     "text": [
      "    101/300      4.31G     0.5722     0.5011     0.9545         14        640: 1\n",
      "                 Class     Images  Instances      Box(P          R      mAP50  m"
     ]
    },
    {
     "name": "stdout",
     "output_type": "stream",
     "text": [
      "                   all        504        631      0.968      0.993      0.992      0.877\n"
     ]
    },
    {
     "name": "stderr",
     "output_type": "stream",
     "text": [
      "\n"
     ]
    },
    {
     "name": "stdout",
     "output_type": "stream",
     "text": [
      "\n",
      "      Epoch    GPU_mem   box_loss   cls_loss   dfl_loss  Instances       Size\n"
     ]
    },
    {
     "name": "stderr",
     "output_type": "stream",
     "text": [
      "    102/300      4.31G     0.5958     0.5433     0.9614         33        640: 1\n",
      "                 Class     Images  Instances      Box(P          R      mAP50  m"
     ]
    },
    {
     "name": "stdout",
     "output_type": "stream",
     "text": [
      "                   all        504        631      0.981      0.993      0.994      0.882\n"
     ]
    },
    {
     "name": "stderr",
     "output_type": "stream",
     "text": [
      "\n"
     ]
    },
    {
     "name": "stdout",
     "output_type": "stream",
     "text": [
      "\n",
      "      Epoch    GPU_mem   box_loss   cls_loss   dfl_loss  Instances       Size\n"
     ]
    },
    {
     "name": "stderr",
     "output_type": "stream",
     "text": [
      "    103/300      4.31G     0.5761     0.5041     0.9646         28        640: 1\n",
      "                 Class     Images  Instances      Box(P          R      mAP50  m"
     ]
    },
    {
     "name": "stdout",
     "output_type": "stream",
     "text": [
      "                   all        504        631      0.988      0.992      0.995      0.888\n"
     ]
    },
    {
     "name": "stderr",
     "output_type": "stream",
     "text": [
      "\n"
     ]
    },
    {
     "name": "stdout",
     "output_type": "stream",
     "text": [
      "\n",
      "      Epoch    GPU_mem   box_loss   cls_loss   dfl_loss  Instances       Size\n"
     ]
    },
    {
     "name": "stderr",
     "output_type": "stream",
     "text": [
      "    104/300      4.31G     0.5909     0.5253     0.9607         11        640: 1\n",
      "                 Class     Images  Instances      Box(P          R      mAP50  m"
     ]
    },
    {
     "name": "stdout",
     "output_type": "stream",
     "text": [
      "                   all        504        631      0.988      0.994      0.995      0.893\n"
     ]
    },
    {
     "name": "stderr",
     "output_type": "stream",
     "text": [
      "\n"
     ]
    },
    {
     "name": "stdout",
     "output_type": "stream",
     "text": [
      "\n",
      "      Epoch    GPU_mem   box_loss   cls_loss   dfl_loss  Instances       Size\n"
     ]
    },
    {
     "name": "stderr",
     "output_type": "stream",
     "text": [
      "    105/300      4.31G     0.5762     0.5198      0.969         20        640: 1\n",
      "                 Class     Images  Instances      Box(P          R      mAP50  m"
     ]
    },
    {
     "name": "stdout",
     "output_type": "stream",
     "text": [
      "                   all        504        631      0.972      0.993      0.989      0.885\n"
     ]
    },
    {
     "name": "stderr",
     "output_type": "stream",
     "text": [
      "\n"
     ]
    },
    {
     "name": "stdout",
     "output_type": "stream",
     "text": [
      "\n",
      "      Epoch    GPU_mem   box_loss   cls_loss   dfl_loss  Instances       Size\n"
     ]
    },
    {
     "name": "stderr",
     "output_type": "stream",
     "text": [
      "    106/300      4.32G     0.5784     0.5182     0.9608         26        640: 1\n",
      "                 Class     Images  Instances      Box(P          R      mAP50  m"
     ]
    },
    {
     "name": "stdout",
     "output_type": "stream",
     "text": [
      "                   all        504        631      0.984      0.992      0.994      0.887\n"
     ]
    },
    {
     "name": "stderr",
     "output_type": "stream",
     "text": [
      "\n"
     ]
    },
    {
     "name": "stdout",
     "output_type": "stream",
     "text": [
      "\n",
      "      Epoch    GPU_mem   box_loss   cls_loss   dfl_loss  Instances       Size\n"
     ]
    },
    {
     "name": "stderr",
     "output_type": "stream",
     "text": [
      "    107/300      4.32G     0.5648     0.5074     0.9586         28        640: 1\n",
      "                 Class     Images  Instances      Box(P          R      mAP50  m"
     ]
    },
    {
     "name": "stdout",
     "output_type": "stream",
     "text": [
      "                   all        504        631       0.98      0.992       0.99      0.887\n"
     ]
    },
    {
     "name": "stderr",
     "output_type": "stream",
     "text": [
      "\n"
     ]
    },
    {
     "name": "stdout",
     "output_type": "stream",
     "text": [
      "\n",
      "      Epoch    GPU_mem   box_loss   cls_loss   dfl_loss  Instances       Size\n"
     ]
    },
    {
     "name": "stderr",
     "output_type": "stream",
     "text": [
      "    108/300      4.31G     0.5657     0.4998     0.9527         19        640: 1\n",
      "                 Class     Images  Instances      Box(P          R      mAP50  m\n"
     ]
    },
    {
     "ename": "KeyboardInterrupt",
     "evalue": "",
     "output_type": "error",
     "traceback": [
      "\u001b[0;31m---------------------------------------------------------------------------\u001b[0m",
      "\u001b[0;31mKeyboardInterrupt\u001b[0m                         Traceback (most recent call last)",
      "Cell \u001b[0;32mIn[10], line 11\u001b[0m\n\u001b[1;32m      9\u001b[0m last_train_folder \u001b[38;5;241m=\u001b[39m \u001b[38;5;124m'\u001b[39m\u001b[38;5;124mtrain\u001b[39m\u001b[38;5;124m'\u001b[39m\n\u001b[1;32m     10\u001b[0m model \u001b[38;5;241m=\u001b[39m YOLO(\u001b[38;5;124mf\u001b[39m\u001b[38;5;124m\"\u001b[39m\u001b[38;5;124m/Users/snowgtyler/Downloads/Military Vehicles Project/runs/detect/\u001b[39m\u001b[38;5;132;01m{\u001b[39;00mlast_train_folder\u001b[38;5;132;01m}\u001b[39;00m\u001b[38;5;124m/weights/last.pt\u001b[39m\u001b[38;5;124m\"\u001b[39m) \n\u001b[0;32m---> 11\u001b[0m results \u001b[38;5;241m=\u001b[39m model\u001b[38;5;241m.\u001b[39mtrain(data\u001b[38;5;241m=\u001b[39m\u001b[38;5;124m\"\u001b[39m\u001b[38;5;124mconfig.yaml\u001b[39m\u001b[38;5;124m\"\u001b[39m, epochs\u001b[38;5;241m=\u001b[39m\u001b[38;5;241m10\u001b[39m, device\u001b[38;5;241m=\u001b[39m\u001b[38;5;124m'\u001b[39m\u001b[38;5;124mmps\u001b[39m\u001b[38;5;124m'\u001b[39m, imgsz \u001b[38;5;241m=\u001b[39m \u001b[38;5;241m640\u001b[39m, resume\u001b[38;5;241m=\u001b[39m\u001b[38;5;28;01mTrue\u001b[39;00m)\n",
      "File \u001b[0;32m/opt/anaconda3/lib/python3.12/site-packages/ultralytics/engine/model.py:799\u001b[0m, in \u001b[0;36mModel.train\u001b[0;34m(self, trainer, **kwargs)\u001b[0m\n\u001b[1;32m    796\u001b[0m     \u001b[38;5;28mself\u001b[39m\u001b[38;5;241m.\u001b[39mmodel \u001b[38;5;241m=\u001b[39m \u001b[38;5;28mself\u001b[39m\u001b[38;5;241m.\u001b[39mtrainer\u001b[38;5;241m.\u001b[39mmodel\n\u001b[1;32m    798\u001b[0m \u001b[38;5;28mself\u001b[39m\u001b[38;5;241m.\u001b[39mtrainer\u001b[38;5;241m.\u001b[39mhub_session \u001b[38;5;241m=\u001b[39m \u001b[38;5;28mself\u001b[39m\u001b[38;5;241m.\u001b[39msession  \u001b[38;5;66;03m# attach optional HUB session\u001b[39;00m\n\u001b[0;32m--> 799\u001b[0m \u001b[38;5;28mself\u001b[39m\u001b[38;5;241m.\u001b[39mtrainer\u001b[38;5;241m.\u001b[39mtrain()\n\u001b[1;32m    800\u001b[0m \u001b[38;5;66;03m# Update model and cfg after training\u001b[39;00m\n\u001b[1;32m    801\u001b[0m \u001b[38;5;28;01mif\u001b[39;00m RANK \u001b[38;5;129;01min\u001b[39;00m {\u001b[38;5;241m-\u001b[39m\u001b[38;5;241m1\u001b[39m, \u001b[38;5;241m0\u001b[39m}:\n",
      "File \u001b[0;32m/opt/anaconda3/lib/python3.12/site-packages/ultralytics/engine/trainer.py:227\u001b[0m, in \u001b[0;36mBaseTrainer.train\u001b[0;34m(self)\u001b[0m\n\u001b[1;32m    224\u001b[0m         ddp_cleanup(\u001b[38;5;28mself\u001b[39m, \u001b[38;5;28mstr\u001b[39m(file))\n\u001b[1;32m    226\u001b[0m \u001b[38;5;28;01melse\u001b[39;00m:\n\u001b[0;32m--> 227\u001b[0m     \u001b[38;5;28mself\u001b[39m\u001b[38;5;241m.\u001b[39m_do_train(world_size)\n",
      "File \u001b[0;32m/opt/anaconda3/lib/python3.12/site-packages/ultralytics/engine/trainer.py:460\u001b[0m, in \u001b[0;36mBaseTrainer._do_train\u001b[0;34m(self, world_size)\u001b[0m\n\u001b[1;32m    458\u001b[0m \u001b[38;5;28;01mif\u001b[39;00m \u001b[38;5;28mself\u001b[39m\u001b[38;5;241m.\u001b[39margs\u001b[38;5;241m.\u001b[39mval \u001b[38;5;129;01mor\u001b[39;00m final_epoch \u001b[38;5;129;01mor\u001b[39;00m \u001b[38;5;28mself\u001b[39m\u001b[38;5;241m.\u001b[39mstopper\u001b[38;5;241m.\u001b[39mpossible_stop \u001b[38;5;129;01mor\u001b[39;00m \u001b[38;5;28mself\u001b[39m\u001b[38;5;241m.\u001b[39mstop:\n\u001b[1;32m    459\u001b[0m     \u001b[38;5;28mself\u001b[39m\u001b[38;5;241m.\u001b[39m_clear_memory(threshold\u001b[38;5;241m=\u001b[39m\u001b[38;5;241m0.5\u001b[39m)  \u001b[38;5;66;03m# prevent VRAM spike\u001b[39;00m\n\u001b[0;32m--> 460\u001b[0m     \u001b[38;5;28mself\u001b[39m\u001b[38;5;241m.\u001b[39mmetrics, \u001b[38;5;28mself\u001b[39m\u001b[38;5;241m.\u001b[39mfitness \u001b[38;5;241m=\u001b[39m \u001b[38;5;28mself\u001b[39m\u001b[38;5;241m.\u001b[39mvalidate()\n\u001b[1;32m    461\u001b[0m \u001b[38;5;28mself\u001b[39m\u001b[38;5;241m.\u001b[39msave_metrics(metrics\u001b[38;5;241m=\u001b[39m{\u001b[38;5;241m*\u001b[39m\u001b[38;5;241m*\u001b[39m\u001b[38;5;28mself\u001b[39m\u001b[38;5;241m.\u001b[39mlabel_loss_items(\u001b[38;5;28mself\u001b[39m\u001b[38;5;241m.\u001b[39mtloss), \u001b[38;5;241m*\u001b[39m\u001b[38;5;241m*\u001b[39m\u001b[38;5;28mself\u001b[39m\u001b[38;5;241m.\u001b[39mmetrics, \u001b[38;5;241m*\u001b[39m\u001b[38;5;241m*\u001b[39m\u001b[38;5;28mself\u001b[39m\u001b[38;5;241m.\u001b[39mlr})\n\u001b[1;32m    462\u001b[0m \u001b[38;5;28mself\u001b[39m\u001b[38;5;241m.\u001b[39mstop \u001b[38;5;241m|\u001b[39m\u001b[38;5;241m=\u001b[39m \u001b[38;5;28mself\u001b[39m\u001b[38;5;241m.\u001b[39mstopper(epoch \u001b[38;5;241m+\u001b[39m \u001b[38;5;241m1\u001b[39m, \u001b[38;5;28mself\u001b[39m\u001b[38;5;241m.\u001b[39mfitness) \u001b[38;5;129;01mor\u001b[39;00m final_epoch\n",
      "File \u001b[0;32m/opt/anaconda3/lib/python3.12/site-packages/ultralytics/engine/trainer.py:660\u001b[0m, in \u001b[0;36mBaseTrainer.validate\u001b[0;34m(self)\u001b[0m\n\u001b[1;32m    652\u001b[0m \u001b[38;5;28;01mdef\u001b[39;00m \u001b[38;5;21mvalidate\u001b[39m(\u001b[38;5;28mself\u001b[39m):\n\u001b[1;32m    653\u001b[0m \u001b[38;5;250m    \u001b[39m\u001b[38;5;124;03m\"\"\"\u001b[39;00m\n\u001b[1;32m    654\u001b[0m \u001b[38;5;124;03m    Run validation on test set using self.validator.\u001b[39;00m\n\u001b[1;32m    655\u001b[0m \n\u001b[0;32m   (...)\u001b[0m\n\u001b[1;32m    658\u001b[0m \u001b[38;5;124;03m        fitness (float): Fitness score for the validation.\u001b[39;00m\n\u001b[1;32m    659\u001b[0m \u001b[38;5;124;03m    \"\"\"\u001b[39;00m\n\u001b[0;32m--> 660\u001b[0m     metrics \u001b[38;5;241m=\u001b[39m \u001b[38;5;28mself\u001b[39m\u001b[38;5;241m.\u001b[39mvalidator(\u001b[38;5;28mself\u001b[39m)\n\u001b[1;32m    661\u001b[0m     fitness \u001b[38;5;241m=\u001b[39m metrics\u001b[38;5;241m.\u001b[39mpop(\u001b[38;5;124m\"\u001b[39m\u001b[38;5;124mfitness\u001b[39m\u001b[38;5;124m\"\u001b[39m, \u001b[38;5;241m-\u001b[39m\u001b[38;5;28mself\u001b[39m\u001b[38;5;241m.\u001b[39mloss\u001b[38;5;241m.\u001b[39mdetach()\u001b[38;5;241m.\u001b[39mcpu()\u001b[38;5;241m.\u001b[39mnumpy())  \u001b[38;5;66;03m# use loss as fitness measure if not found\u001b[39;00m\n\u001b[1;32m    662\u001b[0m     \u001b[38;5;28;01mif\u001b[39;00m \u001b[38;5;129;01mnot\u001b[39;00m \u001b[38;5;28mself\u001b[39m\u001b[38;5;241m.\u001b[39mbest_fitness \u001b[38;5;129;01mor\u001b[39;00m \u001b[38;5;28mself\u001b[39m\u001b[38;5;241m.\u001b[39mbest_fitness \u001b[38;5;241m<\u001b[39m fitness:\n",
      "File \u001b[0;32m/opt/anaconda3/lib/python3.12/site-packages/torch/utils/_contextlib.py:116\u001b[0m, in \u001b[0;36mcontext_decorator.<locals>.decorate_context\u001b[0;34m(*args, **kwargs)\u001b[0m\n\u001b[1;32m    113\u001b[0m \u001b[38;5;129m@functools\u001b[39m\u001b[38;5;241m.\u001b[39mwraps(func)\n\u001b[1;32m    114\u001b[0m \u001b[38;5;28;01mdef\u001b[39;00m \u001b[38;5;21mdecorate_context\u001b[39m(\u001b[38;5;241m*\u001b[39margs, \u001b[38;5;241m*\u001b[39m\u001b[38;5;241m*\u001b[39mkwargs):\n\u001b[1;32m    115\u001b[0m     \u001b[38;5;28;01mwith\u001b[39;00m ctx_factory():\n\u001b[0;32m--> 116\u001b[0m         \u001b[38;5;28;01mreturn\u001b[39;00m func(\u001b[38;5;241m*\u001b[39margs, \u001b[38;5;241m*\u001b[39m\u001b[38;5;241m*\u001b[39mkwargs)\n",
      "File \u001b[0;32m/opt/anaconda3/lib/python3.12/site-packages/ultralytics/engine/validator.py:199\u001b[0m, in \u001b[0;36mBaseValidator.__call__\u001b[0;34m(self, trainer, model)\u001b[0m\n\u001b[1;32m    197\u001b[0m \u001b[38;5;28mself\u001b[39m\u001b[38;5;241m.\u001b[39minit_metrics(de_parallel(model))\n\u001b[1;32m    198\u001b[0m \u001b[38;5;28mself\u001b[39m\u001b[38;5;241m.\u001b[39mjdict \u001b[38;5;241m=\u001b[39m []  \u001b[38;5;66;03m# empty before each val\u001b[39;00m\n\u001b[0;32m--> 199\u001b[0m \u001b[38;5;28;01mfor\u001b[39;00m batch_i, batch \u001b[38;5;129;01min\u001b[39;00m \u001b[38;5;28menumerate\u001b[39m(bar):\n\u001b[1;32m    200\u001b[0m     \u001b[38;5;28mself\u001b[39m\u001b[38;5;241m.\u001b[39mrun_callbacks(\u001b[38;5;124m\"\u001b[39m\u001b[38;5;124mon_val_batch_start\u001b[39m\u001b[38;5;124m\"\u001b[39m)\n\u001b[1;32m    201\u001b[0m     \u001b[38;5;28mself\u001b[39m\u001b[38;5;241m.\u001b[39mbatch_i \u001b[38;5;241m=\u001b[39m batch_i\n",
      "File \u001b[0;32m/opt/anaconda3/lib/python3.12/site-packages/tqdm/std.py:1181\u001b[0m, in \u001b[0;36mtqdm.__iter__\u001b[0;34m(self)\u001b[0m\n\u001b[1;32m   1178\u001b[0m time \u001b[38;5;241m=\u001b[39m \u001b[38;5;28mself\u001b[39m\u001b[38;5;241m.\u001b[39m_time\n\u001b[1;32m   1180\u001b[0m \u001b[38;5;28;01mtry\u001b[39;00m:\n\u001b[0;32m-> 1181\u001b[0m     \u001b[38;5;28;01mfor\u001b[39;00m obj \u001b[38;5;129;01min\u001b[39;00m iterable:\n\u001b[1;32m   1182\u001b[0m         \u001b[38;5;28;01myield\u001b[39;00m obj\n\u001b[1;32m   1183\u001b[0m         \u001b[38;5;66;03m# Update and possibly print the progressbar.\u001b[39;00m\n\u001b[1;32m   1184\u001b[0m         \u001b[38;5;66;03m# Note: does not call self.update(1) for speed optimisation.\u001b[39;00m\n",
      "File \u001b[0;32m/opt/anaconda3/lib/python3.12/site-packages/ultralytics/data/build.py:68\u001b[0m, in \u001b[0;36mInfiniteDataLoader.__iter__\u001b[0;34m(self)\u001b[0m\n\u001b[1;32m     66\u001b[0m \u001b[38;5;250m\u001b[39m\u001b[38;5;124;03m\"\"\"Create an iterator that yields indefinitely from the underlying iterator.\"\"\"\u001b[39;00m\n\u001b[1;32m     67\u001b[0m \u001b[38;5;28;01mfor\u001b[39;00m _ \u001b[38;5;129;01min\u001b[39;00m \u001b[38;5;28mrange\u001b[39m(\u001b[38;5;28mlen\u001b[39m(\u001b[38;5;28mself\u001b[39m)):\n\u001b[0;32m---> 68\u001b[0m     \u001b[38;5;28;01myield\u001b[39;00m \u001b[38;5;28mnext\u001b[39m(\u001b[38;5;28mself\u001b[39m\u001b[38;5;241m.\u001b[39miterator)\n",
      "File \u001b[0;32m/opt/anaconda3/lib/python3.12/site-packages/torch/utils/data/dataloader.py:733\u001b[0m, in \u001b[0;36m_BaseDataLoaderIter.__next__\u001b[0;34m(self)\u001b[0m\n\u001b[1;32m    730\u001b[0m \u001b[38;5;28;01mif\u001b[39;00m \u001b[38;5;28mself\u001b[39m\u001b[38;5;241m.\u001b[39m_sampler_iter \u001b[38;5;129;01mis\u001b[39;00m \u001b[38;5;28;01mNone\u001b[39;00m:\n\u001b[1;32m    731\u001b[0m     \u001b[38;5;66;03m# TODO(https://github.com/pytorch/pytorch/issues/76750)\u001b[39;00m\n\u001b[1;32m    732\u001b[0m     \u001b[38;5;28mself\u001b[39m\u001b[38;5;241m.\u001b[39m_reset()  \u001b[38;5;66;03m# type: ignore[call-arg]\u001b[39;00m\n\u001b[0;32m--> 733\u001b[0m data \u001b[38;5;241m=\u001b[39m \u001b[38;5;28mself\u001b[39m\u001b[38;5;241m.\u001b[39m_next_data()\n\u001b[1;32m    734\u001b[0m \u001b[38;5;28mself\u001b[39m\u001b[38;5;241m.\u001b[39m_num_yielded \u001b[38;5;241m+\u001b[39m\u001b[38;5;241m=\u001b[39m \u001b[38;5;241m1\u001b[39m\n\u001b[1;32m    735\u001b[0m \u001b[38;5;28;01mif\u001b[39;00m (\n\u001b[1;32m    736\u001b[0m     \u001b[38;5;28mself\u001b[39m\u001b[38;5;241m.\u001b[39m_dataset_kind \u001b[38;5;241m==\u001b[39m _DatasetKind\u001b[38;5;241m.\u001b[39mIterable\n\u001b[1;32m    737\u001b[0m     \u001b[38;5;129;01mand\u001b[39;00m \u001b[38;5;28mself\u001b[39m\u001b[38;5;241m.\u001b[39m_IterableDataset_len_called \u001b[38;5;129;01mis\u001b[39;00m \u001b[38;5;129;01mnot\u001b[39;00m \u001b[38;5;28;01mNone\u001b[39;00m\n\u001b[1;32m    738\u001b[0m     \u001b[38;5;129;01mand\u001b[39;00m \u001b[38;5;28mself\u001b[39m\u001b[38;5;241m.\u001b[39m_num_yielded \u001b[38;5;241m>\u001b[39m \u001b[38;5;28mself\u001b[39m\u001b[38;5;241m.\u001b[39m_IterableDataset_len_called\n\u001b[1;32m    739\u001b[0m ):\n",
      "File \u001b[0;32m/opt/anaconda3/lib/python3.12/site-packages/torch/utils/data/dataloader.py:789\u001b[0m, in \u001b[0;36m_SingleProcessDataLoaderIter._next_data\u001b[0;34m(self)\u001b[0m\n\u001b[1;32m    787\u001b[0m \u001b[38;5;28;01mdef\u001b[39;00m \u001b[38;5;21m_next_data\u001b[39m(\u001b[38;5;28mself\u001b[39m):\n\u001b[1;32m    788\u001b[0m     index \u001b[38;5;241m=\u001b[39m \u001b[38;5;28mself\u001b[39m\u001b[38;5;241m.\u001b[39m_next_index()  \u001b[38;5;66;03m# may raise StopIteration\u001b[39;00m\n\u001b[0;32m--> 789\u001b[0m     data \u001b[38;5;241m=\u001b[39m \u001b[38;5;28mself\u001b[39m\u001b[38;5;241m.\u001b[39m_dataset_fetcher\u001b[38;5;241m.\u001b[39mfetch(index)  \u001b[38;5;66;03m# may raise StopIteration\u001b[39;00m\n\u001b[1;32m    790\u001b[0m     \u001b[38;5;28;01mif\u001b[39;00m \u001b[38;5;28mself\u001b[39m\u001b[38;5;241m.\u001b[39m_pin_memory:\n\u001b[1;32m    791\u001b[0m         data \u001b[38;5;241m=\u001b[39m _utils\u001b[38;5;241m.\u001b[39mpin_memory\u001b[38;5;241m.\u001b[39mpin_memory(data, \u001b[38;5;28mself\u001b[39m\u001b[38;5;241m.\u001b[39m_pin_memory_device)\n",
      "File \u001b[0;32m/opt/anaconda3/lib/python3.12/site-packages/torch/utils/data/_utils/fetch.py:52\u001b[0m, in \u001b[0;36m_MapDatasetFetcher.fetch\u001b[0;34m(self, possibly_batched_index)\u001b[0m\n\u001b[1;32m     50\u001b[0m         data \u001b[38;5;241m=\u001b[39m \u001b[38;5;28mself\u001b[39m\u001b[38;5;241m.\u001b[39mdataset\u001b[38;5;241m.\u001b[39m__getitems__(possibly_batched_index)\n\u001b[1;32m     51\u001b[0m     \u001b[38;5;28;01melse\u001b[39;00m:\n\u001b[0;32m---> 52\u001b[0m         data \u001b[38;5;241m=\u001b[39m [\u001b[38;5;28mself\u001b[39m\u001b[38;5;241m.\u001b[39mdataset[idx] \u001b[38;5;28;01mfor\u001b[39;00m idx \u001b[38;5;129;01min\u001b[39;00m possibly_batched_index]\n\u001b[1;32m     53\u001b[0m \u001b[38;5;28;01melse\u001b[39;00m:\n\u001b[1;32m     54\u001b[0m     data \u001b[38;5;241m=\u001b[39m \u001b[38;5;28mself\u001b[39m\u001b[38;5;241m.\u001b[39mdataset[possibly_batched_index]\n",
      "File \u001b[0;32m/opt/anaconda3/lib/python3.12/site-packages/ultralytics/data/base.py:379\u001b[0m, in \u001b[0;36mBaseDataset.__getitem__\u001b[0;34m(self, index)\u001b[0m\n\u001b[1;32m    377\u001b[0m \u001b[38;5;28;01mdef\u001b[39;00m \u001b[38;5;21m__getitem__\u001b[39m(\u001b[38;5;28mself\u001b[39m, index: \u001b[38;5;28mint\u001b[39m) \u001b[38;5;241m-\u001b[39m\u001b[38;5;241m>\u001b[39m Dict[\u001b[38;5;28mstr\u001b[39m, Any]:\n\u001b[1;32m    378\u001b[0m \u001b[38;5;250m    \u001b[39m\u001b[38;5;124;03m\"\"\"Return transformed label information for given index.\"\"\"\u001b[39;00m\n\u001b[0;32m--> 379\u001b[0m     \u001b[38;5;28;01mreturn\u001b[39;00m \u001b[38;5;28mself\u001b[39m\u001b[38;5;241m.\u001b[39mtransforms(\u001b[38;5;28mself\u001b[39m\u001b[38;5;241m.\u001b[39mget_image_and_label(index))\n",
      "File \u001b[0;32m/opt/anaconda3/lib/python3.12/site-packages/ultralytics/data/base.py:393\u001b[0m, in \u001b[0;36mBaseDataset.get_image_and_label\u001b[0;34m(self, index)\u001b[0m\n\u001b[1;32m    391\u001b[0m label \u001b[38;5;241m=\u001b[39m deepcopy(\u001b[38;5;28mself\u001b[39m\u001b[38;5;241m.\u001b[39mlabels[index])  \u001b[38;5;66;03m# requires deepcopy() https://github.com/ultralytics/ultralytics/pull/1948\u001b[39;00m\n\u001b[1;32m    392\u001b[0m label\u001b[38;5;241m.\u001b[39mpop(\u001b[38;5;124m\"\u001b[39m\u001b[38;5;124mshape\u001b[39m\u001b[38;5;124m\"\u001b[39m, \u001b[38;5;28;01mNone\u001b[39;00m)  \u001b[38;5;66;03m# shape is for rect, remove it\u001b[39;00m\n\u001b[0;32m--> 393\u001b[0m label[\u001b[38;5;124m\"\u001b[39m\u001b[38;5;124mimg\u001b[39m\u001b[38;5;124m\"\u001b[39m], label[\u001b[38;5;124m\"\u001b[39m\u001b[38;5;124mori_shape\u001b[39m\u001b[38;5;124m\"\u001b[39m], label[\u001b[38;5;124m\"\u001b[39m\u001b[38;5;124mresized_shape\u001b[39m\u001b[38;5;124m\"\u001b[39m] \u001b[38;5;241m=\u001b[39m \u001b[38;5;28mself\u001b[39m\u001b[38;5;241m.\u001b[39mload_image(index)\n\u001b[1;32m    394\u001b[0m label[\u001b[38;5;124m\"\u001b[39m\u001b[38;5;124mratio_pad\u001b[39m\u001b[38;5;124m\"\u001b[39m] \u001b[38;5;241m=\u001b[39m (\n\u001b[1;32m    395\u001b[0m     label[\u001b[38;5;124m\"\u001b[39m\u001b[38;5;124mresized_shape\u001b[39m\u001b[38;5;124m\"\u001b[39m][\u001b[38;5;241m0\u001b[39m] \u001b[38;5;241m/\u001b[39m label[\u001b[38;5;124m\"\u001b[39m\u001b[38;5;124mori_shape\u001b[39m\u001b[38;5;124m\"\u001b[39m][\u001b[38;5;241m0\u001b[39m],\n\u001b[1;32m    396\u001b[0m     label[\u001b[38;5;124m\"\u001b[39m\u001b[38;5;124mresized_shape\u001b[39m\u001b[38;5;124m\"\u001b[39m][\u001b[38;5;241m1\u001b[39m] \u001b[38;5;241m/\u001b[39m label[\u001b[38;5;124m\"\u001b[39m\u001b[38;5;124mori_shape\u001b[39m\u001b[38;5;124m\"\u001b[39m][\u001b[38;5;241m1\u001b[39m],\n\u001b[1;32m    397\u001b[0m )  \u001b[38;5;66;03m# for evaluation\u001b[39;00m\n\u001b[1;32m    398\u001b[0m \u001b[38;5;28;01mif\u001b[39;00m \u001b[38;5;28mself\u001b[39m\u001b[38;5;241m.\u001b[39mrect:\n",
      "File \u001b[0;32m/opt/anaconda3/lib/python3.12/site-packages/ultralytics/data/base.py:236\u001b[0m, in \u001b[0;36mBaseDataset.load_image\u001b[0;34m(self, i, rect_mode)\u001b[0m\n\u001b[1;32m    234\u001b[0m         im \u001b[38;5;241m=\u001b[39m imread(f, flags\u001b[38;5;241m=\u001b[39m\u001b[38;5;28mself\u001b[39m\u001b[38;5;241m.\u001b[39mcv2_flag)  \u001b[38;5;66;03m# BGR\u001b[39;00m\n\u001b[1;32m    235\u001b[0m \u001b[38;5;28;01melse\u001b[39;00m:  \u001b[38;5;66;03m# read image\u001b[39;00m\n\u001b[0;32m--> 236\u001b[0m     im \u001b[38;5;241m=\u001b[39m imread(f, flags\u001b[38;5;241m=\u001b[39m\u001b[38;5;28mself\u001b[39m\u001b[38;5;241m.\u001b[39mcv2_flag)  \u001b[38;5;66;03m# BGR\u001b[39;00m\n\u001b[1;32m    237\u001b[0m \u001b[38;5;28;01mif\u001b[39;00m im \u001b[38;5;129;01mis\u001b[39;00m \u001b[38;5;28;01mNone\u001b[39;00m:\n\u001b[1;32m    238\u001b[0m     \u001b[38;5;28;01mraise\u001b[39;00m \u001b[38;5;167;01mFileNotFoundError\u001b[39;00m(\u001b[38;5;124mf\u001b[39m\u001b[38;5;124m\"\u001b[39m\u001b[38;5;124mImage Not Found \u001b[39m\u001b[38;5;132;01m{\u001b[39;00mf\u001b[38;5;132;01m}\u001b[39;00m\u001b[38;5;124m\"\u001b[39m)\n",
      "File \u001b[0;32m/opt/anaconda3/lib/python3.12/site-packages/ultralytics/utils/patches.py:41\u001b[0m, in \u001b[0;36mimread\u001b[0;34m(filename, flags)\u001b[0m\n\u001b[1;32m     39\u001b[0m     \u001b[38;5;28;01mreturn\u001b[39;00m \u001b[38;5;28;01mNone\u001b[39;00m\n\u001b[1;32m     40\u001b[0m \u001b[38;5;28;01melse\u001b[39;00m:\n\u001b[0;32m---> 41\u001b[0m     im \u001b[38;5;241m=\u001b[39m cv2\u001b[38;5;241m.\u001b[39mimdecode(file_bytes, flags)\n\u001b[1;32m     42\u001b[0m     \u001b[38;5;28;01mreturn\u001b[39;00m im[\u001b[38;5;241m.\u001b[39m\u001b[38;5;241m.\u001b[39m\u001b[38;5;241m.\u001b[39m, \u001b[38;5;28;01mNone\u001b[39;00m] \u001b[38;5;28;01mif\u001b[39;00m im \u001b[38;5;129;01mis\u001b[39;00m \u001b[38;5;129;01mnot\u001b[39;00m \u001b[38;5;28;01mNone\u001b[39;00m \u001b[38;5;129;01mand\u001b[39;00m im\u001b[38;5;241m.\u001b[39mndim \u001b[38;5;241m==\u001b[39m \u001b[38;5;241m2\u001b[39m \u001b[38;5;28;01melse\u001b[39;00m im\n",
      "\u001b[0;31mKeyboardInterrupt\u001b[0m: "
     ]
    }
   ],
   "source": [
    "# Access project folder\n",
    "os.chdir('/Users/snowgtyler/Downloads/Military Vehicles Project')\n",
    "\n",
    "# Load base YOLO model (v11) and begin training model on custom dataset\n",
    "#model = YOLO(\"yolo11n.pt\")  # the lightest version of v11, n = nano\n",
    "#results = model.train(data=\"config.yaml\", epochs=300, device='mps', imgsz = 640) # train the model, 'mps' is for Apple silicon GPU\n",
    "\n",
    "# Use below to resume training from previous iteration\n",
    "last_train_folder = 'train'\n",
    "model = YOLO(f\"/Users/snowgtyler/Downloads/Military Vehicles Project/runs/detect/{last_train_folder}/weights/last.pt\") \n",
    "results = model.train(data=\"config.yaml\", epochs=10, device='mps', imgsz = 640, resume=True)"
   ]
  },
  {
   "cell_type": "code",
   "execution_count": 30,
   "id": "c360ef1e-d848-456a-b8a1-2fc9778471b6",
   "metadata": {},
   "outputs": [
    {
     "name": "stdout",
     "output_type": "stream",
     "text": [
      "\n",
      "image 1/1 /Users/snowgtyler/Desktop/validation_photos/images/ICBM_1.png: 416x640 1 MRLS, 60.4ms\n",
      "Speed: 3.2ms preprocess, 60.4ms inference, 0.6ms postprocess per image at shape (1, 3, 416, 640)\n"
     ]
    },
    {
     "data": {
      "text/plain": [
       "[ultralytics.engine.results.Results object with attributes:\n",
       " \n",
       " boxes: ultralytics.engine.results.Boxes object\n",
       " keypoints: None\n",
       " masks: None\n",
       " names: {0: 'TNK', 1: 'APC', 2: 'ICBM', 3: 'IMV', 4: 'SPH', 5: 'MRLS', 6: 'SRBM', 7: 'UAVC', 8: 'SAM', 9: 'IFV', 10: 'CT', 11: 'SC'}\n",
       " obb: None\n",
       " orig_img: array([[[255, 255, 255],\n",
       "         [255, 255, 255],\n",
       "         [255, 255, 255],\n",
       "         ...,\n",
       "         [255, 255, 255],\n",
       "         [255, 255, 255],\n",
       "         [255, 255, 255]],\n",
       " \n",
       "        [[255, 255, 255],\n",
       "         [255, 255, 255],\n",
       "         [255, 255, 255],\n",
       "         ...,\n",
       "         [255, 255, 255],\n",
       "         [255, 255, 255],\n",
       "         [255, 255, 255]],\n",
       " \n",
       "        [[255, 255, 255],\n",
       "         [255, 255, 255],\n",
       "         [255, 255, 255],\n",
       "         ...,\n",
       "         [255, 255, 255],\n",
       "         [255, 255, 255],\n",
       "         [255, 255, 255]],\n",
       " \n",
       "        ...,\n",
       " \n",
       "        [[255, 255, 255],\n",
       "         [255, 255, 255],\n",
       "         [255, 255, 255],\n",
       "         ...,\n",
       "         [255, 255, 255],\n",
       "         [255, 255, 255],\n",
       "         [255, 255, 255]],\n",
       " \n",
       "        [[255, 255, 255],\n",
       "         [255, 255, 255],\n",
       "         [255, 255, 255],\n",
       "         ...,\n",
       "         [255, 255, 255],\n",
       "         [255, 255, 255],\n",
       "         [255, 255, 255]],\n",
       " \n",
       "        [[255, 255, 255],\n",
       "         [255, 255, 255],\n",
       "         [255, 255, 255],\n",
       "         ...,\n",
       "         [255, 255, 255],\n",
       "         [255, 255, 255],\n",
       "         [255, 255, 255]]], dtype=uint8)\n",
       " orig_shape: (127, 202)\n",
       " path: '/Users/snowgtyler/Desktop/validation_photos/images/ICBM_1.png'\n",
       " probs: None\n",
       " save_dir: 'runs/detect/predict'\n",
       " speed: {'preprocess': 3.2458329806104302, 'inference': 60.374541993951425, 'postprocess': 0.5952920182608068}]"
      ]
     },
     "execution_count": 30,
     "metadata": {},
     "output_type": "execute_result"
    }
   ],
   "source": [
    "os.chdir('/Users/snowgtyler/Desktop/validation_photos/images/')\n",
    "model.predict('ICBM_1.png')"
   ]
  },
  {
   "cell_type": "code",
   "execution_count": null,
   "id": "c41245fc-47c4-446b-ab63-d3b3f3409b7d",
   "metadata": {},
   "outputs": [],
   "source": []
  },
  {
   "cell_type": "code",
   "execution_count": null,
   "id": "7fbff692-18ea-4a13-ac2d-188692ba7ccc",
   "metadata": {},
   "outputs": [],
   "source": [
    "# Step 1: Functions generate 5x new photos used for augmenting source photos for dataset.\n",
    "\n",
    "from pathlib import Path\n",
    "import skimage as ski\n",
    "\n",
    "image_folder = Path('/Users/snowgtyler/Downloads/MV Task SPHUAVC/')\n",
    "new_image_folder = '/Users/snowgtyler/Downloads/MV Task SPHUAVC/new_images/'\n",
    "\n",
    "# Rotates photo 3x\n",
    "def get_aug_rotate(image, file):\n",
    "    for angle in [90,180,270]:\n",
    "        new_image = ski.transform.rotate(image,angle=angle, resize=True)\n",
    "        new_image_uint8 = ski.img_as_ubyte(new_image)  # Converts float64 [0.0, 1.0] to uint8 [0, 255]\n",
    "        ski.io.imsave(file.stem + str(f'({angle})') + '.png',new_image_uint8)\n",
    "\n",
    "# Blurs photo 2x\n",
    "def get_aug_gaussian(image, file):\n",
    "    for sigma in [4,6]:\n",
    "        new_image = ski.filters.gaussian(image,sigma=sigma, channel_axis=-1)\n",
    "        new_image = new_image / new_image.max()  # Normalize to [0.0, 1.0]\n",
    "        new_image_uint8 = ski.img_as_ubyte(new_image)  # Converts float64 [0.0, 1.0] to uint8 [0, 255]\n",
    "        ski.io.imsave(file.stem + str(f'({sigma})') + '.png',new_image_uint8)"
   ]
  },
  {
   "cell_type": "code",
   "execution_count": null,
   "id": "3a920326-7a5b-4887-8fd1-54b88bc68a41",
   "metadata": {},
   "outputs": [],
   "source": [
    "# Step 2: Execute functions\n",
    "\n",
    "# Create new directory - new_images in photo directory\n",
    "os.chdir('/Users/snowgtyler/Downloads/MV Task SPHUAVC/')\n",
    "os.mkdir('new_images')\n",
    "os.chdir(new_image_folder)\n",
    "\n",
    "\n",
    "# Generate photos\n",
    "for file in image_folder.iterdir():\n",
    "    if file.is_file() and file.suffix.lower() == '.png':\n",
    "        image = ski.io.imread(file)\n",
    "        get_aug_rotate(image, file)\n",
    "        get_aug_gaussian(image, file)\n",
    "        \n",
    "        "
   ]
  },
  {
   "cell_type": "code",
   "execution_count": 86,
   "id": "0327f443-b713-468e-86ab-f0679d764b5d",
   "metadata": {},
   "outputs": [],
   "source": [
    "# Function to generate new .txt file for YOLO format\n",
    "from pathlib import Path\n",
    "import os\n",
    "\n",
    "def gen_txt(dataset_type, path):\n",
    "# dataset_type = 'valid' | 'train' | 'test'\n",
    "# path = '/Users/snowgtyler/Desktop/validation_photos/'\n",
    "    \n",
    "    dataset_folder = Path(path)\n",
    "    os.chdir(path)\n",
    "    \n",
    "    with open(f'{dataset_type}.txt', 'w') as f:\n",
    "        for file in dataset_folder.iterdir():\n",
    "            if file.suffix == '.png':\n",
    "                f.write(f'obj_{dataset_type}_data/' + file.name + '\\n')\n",
    "# Run \n",
    "gen_txt('train', '/Users/snowgtyler/Desktop/test2/')"
   ]
  },
  {
   "cell_type": "code",
   "execution_count": null,
   "id": "f2a4a0d4-50d7-44fd-b6b1-a6286e1540ef",
   "metadata": {},
   "outputs": [],
   "source": [
    "# Create new bounding box text files for blurred pictures (bounding boxes remain the same!)"
   ]
  },
  {
   "cell_type": "code",
   "execution_count": 32,
   "id": "60049b71-e31c-4fd5-ae73-0ae1fa558633",
   "metadata": {},
   "outputs": [
    {
     "name": "stderr",
     "output_type": "stream",
     "text": [
      "Downloading https://github.com/ultralytics/assets/releases/download/v8.3.0/sam_b\n"
     ]
    },
    {
     "name": "stdout",
     "output_type": "stream",
     "text": [
      "\n",
      "image 1/180 /Users/snowgtyler/Desktop/validation_photos/images/APC_1.png: 448x640 1 SC, 242.0ms\n",
      "image 2/180 /Users/snowgtyler/Desktop/validation_photos/images/APC_10.png: 384x640 1 SC, 337.3ms\n",
      "image 3/180 /Users/snowgtyler/Desktop/validation_photos/images/APC_11.png: 384x640 1 TNK, 10.1ms\n",
      "image 4/180 /Users/snowgtyler/Desktop/validation_photos/images/APC_12.png: 384x640 1 SC, 11.8ms\n",
      "image 5/180 /Users/snowgtyler/Desktop/validation_photos/images/APC_13.png: 448x640 1 TNK, 62.8ms\n",
      "image 6/180 /Users/snowgtyler/Desktop/validation_photos/images/APC_14.png: 448x640 1 ICBM, 11.4ms\n",
      "image 7/180 /Users/snowgtyler/Desktop/validation_photos/images/APC_15.png: 448x640 (no detections), 11.5ms\n",
      "image 8/180 /Users/snowgtyler/Desktop/validation_photos/images/APC_2.png: 416x640 1 ICBM, 417.7ms\n",
      "image 9/180 /Users/snowgtyler/Desktop/validation_photos/images/APC_3.png: 416x640 1 ICBM, 11.8ms\n",
      "image 10/180 /Users/snowgtyler/Desktop/validation_photos/images/APC_4.png: 416x640 (no detections), 15.2ms\n",
      "image 11/180 /Users/snowgtyler/Desktop/validation_photos/images/APC_5.png: 448x640 1 SC, 42.4ms\n",
      "image 12/180 /Users/snowgtyler/Desktop/validation_photos/images/APC_6.png: 320x640 1 SC, 396.3ms\n",
      "image 13/180 /Users/snowgtyler/Desktop/validation_photos/images/APC_7.png: 480x640 (no detections), 652.1ms\n",
      "image 14/180 /Users/snowgtyler/Desktop/validation_photos/images/APC_8.png: 416x640 1 SC, 69.7ms\n",
      "image 15/180 /Users/snowgtyler/Desktop/validation_photos/images/APC_9.png: 384x640 1 SC, 65.2ms\n",
      "image 16/180 /Users/snowgtyler/Desktop/validation_photos/images/CT_1.png: 640x640 1 CT, 83.6ms\n",
      "image 17/180 /Users/snowgtyler/Desktop/validation_photos/images/CT_10.png: 512x640 1 ICBM, 656.3ms\n",
      "image 18/180 /Users/snowgtyler/Desktop/validation_photos/images/CT_11.png: 512x640 1 CT, 10.9ms\n",
      "image 19/180 /Users/snowgtyler/Desktop/validation_photos/images/CT_13.png: 512x640 (no detections), 10.1ms\n",
      "image 20/180 /Users/snowgtyler/Desktop/validation_photos/images/CT_14.png: 512x640 1 CT, 10.5ms\n",
      "image 21/180 /Users/snowgtyler/Desktop/validation_photos/images/CT_15.png: 416x640 1 CT, 122.4ms\n",
      "image 22/180 /Users/snowgtyler/Desktop/validation_photos/images/CT_16.png: 512x640 1 SC, 29.6ms\n",
      "image 23/180 /Users/snowgtyler/Desktop/validation_photos/images/CT_17.png: 352x640 (no detections), 345.5ms\n",
      "image 24/180 /Users/snowgtyler/Desktop/validation_photos/images/CT_2.png: 352x640 1 SC, 9.1ms\n",
      "image 25/180 /Users/snowgtyler/Desktop/validation_photos/images/CT_3.png: 416x640 (no detections), 38.6ms\n",
      "image 26/180 /Users/snowgtyler/Desktop/validation_photos/images/CT_4.png: 512x640 1 CT, 29.9ms\n",
      "image 27/180 /Users/snowgtyler/Desktop/validation_photos/images/CT_5.png: 480x640 (no detections), 62.5ms\n",
      "image 28/180 /Users/snowgtyler/Desktop/validation_photos/images/CT_7.png: 480x640 1 ICBM, 11.8ms\n",
      "image 29/180 /Users/snowgtyler/Desktop/validation_photos/images/CT_8.png: 512x640 1 CT, 44.1ms\n",
      "image 30/180 /Users/snowgtyler/Desktop/validation_photos/images/CT_9.png: 416x640 (no detections), 45.4ms\n",
      "image 31/180 /Users/snowgtyler/Desktop/validation_photos/images/ICBM_1.png: 416x640 1 ICBM, 9.3ms\n",
      "image 32/180 /Users/snowgtyler/Desktop/validation_photos/images/ICMB_10.png: 416x640 1 ICBM, 13.1ms\n",
      "image 33/180 /Users/snowgtyler/Desktop/validation_photos/images/ICMB_11.png: 416x640 (no detections), 13.2ms\n",
      "image 34/180 /Users/snowgtyler/Desktop/validation_photos/images/ICMB_12.png: 416x640 1 ICBM, 14.9ms\n",
      "image 35/180 /Users/snowgtyler/Desktop/validation_photos/images/ICMB_13.png: 416x640 1 ICBM, 11.2ms\n",
      "image 36/180 /Users/snowgtyler/Desktop/validation_photos/images/ICMB_14.png: 416x640 1 ICBM, 14.7ms\n",
      "image 37/180 /Users/snowgtyler/Desktop/validation_photos/images/ICMB_15.png: 320x640 1 ICBM, 93.1ms\n",
      "image 38/180 /Users/snowgtyler/Desktop/validation_photos/images/ICMB_2.png: 416x640 1 ICBM, 30.3ms\n",
      "image 39/180 /Users/snowgtyler/Desktop/validation_photos/images/ICMB_3.png: 384x640 1 ICBM, 86.8ms\n",
      "image 40/180 /Users/snowgtyler/Desktop/validation_photos/images/ICMB_4.png: 416x640 1 ICBM, 48.7ms\n",
      "image 41/180 /Users/snowgtyler/Desktop/validation_photos/images/ICMB_5.png: 416x640 1 ICBM, 31.2ms\n",
      "image 42/180 /Users/snowgtyler/Desktop/validation_photos/images/ICMB_6.png: 416x640 1 ICBM, 13.2ms\n",
      "image 43/180 /Users/snowgtyler/Desktop/validation_photos/images/ICMB_7.png: 416x640 1 SRBM, 12.7ms\n",
      "image 44/180 /Users/snowgtyler/Desktop/validation_photos/images/ICMB_8.png: 416x640 1 ICBM, 24.9ms\n",
      "image 45/180 /Users/snowgtyler/Desktop/validation_photos/images/ICMB_9.png: 416x640 (no detections), 9.9ms\n",
      "image 46/180 /Users/snowgtyler/Desktop/validation_photos/images/IFV_1.png: 416x640 1 ICBM, 14.3ms\n",
      "image 47/180 /Users/snowgtyler/Desktop/validation_photos/images/IFV_10.png: 416x640 (no detections), 13.5ms\n",
      "image 48/180 /Users/snowgtyler/Desktop/validation_photos/images/IFV_11.png: 416x640 (no detections), 10.8ms\n",
      "image 49/180 /Users/snowgtyler/Desktop/validation_photos/images/IFV_12.png: 416x640 (no detections), 9.2ms\n",
      "image 50/180 /Users/snowgtyler/Desktop/validation_photos/images/IFV_13.png: 416x640 1 ICBM, 12.2ms\n",
      "image 51/180 /Users/snowgtyler/Desktop/validation_photos/images/IFV_14.png: 416x640 1 TNK, 11.6ms\n",
      "image 52/180 /Users/snowgtyler/Desktop/validation_photos/images/IFV_15.png: 416x640 1 ICBM, 8.6ms\n",
      "image 53/180 /Users/snowgtyler/Desktop/validation_photos/images/IFV_16.png: 416x640 (no detections), 10.7ms\n",
      "image 54/180 /Users/snowgtyler/Desktop/validation_photos/images/IFV_2.png: 416x640 1 TNK, 10.0ms\n",
      "image 55/180 /Users/snowgtyler/Desktop/validation_photos/images/IFV_3.png: 416x640 1 TNK, 9.0ms\n",
      "image 56/180 /Users/snowgtyler/Desktop/validation_photos/images/IFV_4.png: 416x640 (no detections), 12.9ms\n",
      "image 57/180 /Users/snowgtyler/Desktop/validation_photos/images/IFV_5.png: 640x640 (no detections), 110.3ms\n",
      "image 58/180 /Users/snowgtyler/Desktop/validation_photos/images/IFV_7.png: 352x640 (no detections), 112.1ms\n",
      "image 59/180 /Users/snowgtyler/Desktop/validation_photos/images/IFV_8.png: 384x640 1 TNK, 74.5ms\n",
      "image 60/180 /Users/snowgtyler/Desktop/validation_photos/images/IFV_9.png: 416x640 (no detections), 43.1ms\n",
      "image 61/180 /Users/snowgtyler/Desktop/validation_photos/images/IMV_1.png: 448x640 1 SC, 63.6ms\n",
      "image 62/180 /Users/snowgtyler/Desktop/validation_photos/images/IMV_10.png: 448x640 (no detections), 23.2ms\n",
      "image 63/180 /Users/snowgtyler/Desktop/validation_photos/images/IMV_11.png: 480x640 1 ICBM, 62.7ms\n",
      "image 64/180 /Users/snowgtyler/Desktop/validation_photos/images/IMV_12.png: 480x640 (no detections), 14.7ms\n",
      "image 65/180 /Users/snowgtyler/Desktop/validation_photos/images/IMV_13.png: 480x640 1 ICBM, 14.0ms\n",
      "image 66/180 /Users/snowgtyler/Desktop/validation_photos/images/IMV_14.png: 480x640 (no detections), 9.4ms\n",
      "image 67/180 /Users/snowgtyler/Desktop/validation_photos/images/IMV_15.png: 384x640 1 SC, 81.6ms\n",
      "image 68/180 /Users/snowgtyler/Desktop/validation_photos/images/IMV_2.png: 480x640 (no detections), 54.9ms\n",
      "image 69/180 /Users/snowgtyler/Desktop/validation_photos/images/IMV_3.png: 416x640 1 CT, 75.3ms\n",
      "image 70/180 /Users/snowgtyler/Desktop/validation_photos/images/IMV_4.png: 416x640 1 SC, 30.4ms\n",
      "image 71/180 /Users/snowgtyler/Desktop/validation_photos/images/IMV_5.png: 416x640 1 SC, 13.8ms\n",
      "image 72/180 /Users/snowgtyler/Desktop/validation_photos/images/IMV_6.png: 384x640 1 SRBM, 154.5ms\n",
      "image 73/180 /Users/snowgtyler/Desktop/validation_photos/images/IMV_7.png: 384x640 (no detections), 11.7ms\n",
      "image 74/180 /Users/snowgtyler/Desktop/validation_photos/images/IMV_8.png: 384x640 1 SC, 10.1ms\n",
      "image 75/180 /Users/snowgtyler/Desktop/validation_photos/images/IMV_9.png: 384x640 1 SC, 11.7ms\n",
      "image 76/180 /Users/snowgtyler/Desktop/validation_photos/images/MLRS_1.png: 384x640 (no detections), 10.7ms\n",
      "image 77/180 /Users/snowgtyler/Desktop/validation_photos/images/MLRS_10.png: 416x640 1 TNK, 104.9ms\n",
      "image 78/180 /Users/snowgtyler/Desktop/validation_photos/images/MLRS_11.png: 544x640 (no detections), 253.4ms\n",
      "image 79/180 /Users/snowgtyler/Desktop/validation_photos/images/MLRS_12.png: 448x640 (no detections), 61.0ms\n",
      "image 80/180 /Users/snowgtyler/Desktop/validation_photos/images/MLRS_13.png: 544x640 (no detections), 28.4ms\n",
      "image 81/180 /Users/snowgtyler/Desktop/validation_photos/images/MLRS_14.png: 352x640 1 CT, 56.4ms\n",
      "image 82/180 /Users/snowgtyler/Desktop/validation_photos/images/MLRS_15.png: 448x640 1 ICBM, 113.1ms\n",
      "image 83/180 /Users/snowgtyler/Desktop/validation_photos/images/MLRS_2.png: 416x640 (no detections), 127.4ms\n",
      "image 84/180 /Users/snowgtyler/Desktop/validation_photos/images/MLRS_3.png: 352x640 1 CT, 69.6ms\n",
      "image 85/180 /Users/snowgtyler/Desktop/validation_photos/images/MLRS_4.png: 352x640 (no detections), 16.3ms\n",
      "image 86/180 /Users/snowgtyler/Desktop/validation_photos/images/MLRS_5.png: 384x640 (no detections), 71.5ms\n",
      "image 87/180 /Users/snowgtyler/Desktop/validation_photos/images/MLRS_6.png: 384x640 (no detections), 11.8ms\n",
      "image 88/180 /Users/snowgtyler/Desktop/validation_photos/images/MLRS_7.png: 384x640 1 TNK, 10.9ms\n",
      "image 89/180 /Users/snowgtyler/Desktop/validation_photos/images/MLRS_8.png: 384x640 1 CT, 12.4ms\n",
      "image 90/180 /Users/snowgtyler/Desktop/validation_photos/images/MLRS_9.png: 384x640 1 MRLS, 10.8ms\n",
      "image 91/180 /Users/snowgtyler/Desktop/validation_photos/images/SAM_1.png: 352x640 (no detections), 32.1ms\n",
      "image 92/180 /Users/snowgtyler/Desktop/validation_photos/images/SAM_10.png: 352x640 (no detections), 11.9ms\n",
      "image 93/180 /Users/snowgtyler/Desktop/validation_photos/images/SAM_11.png: 416x640 (no detections), 60.1ms\n",
      "image 94/180 /Users/snowgtyler/Desktop/validation_photos/images/SAM_13.png: 448x640 (no detections), 49.0ms\n",
      "image 95/180 /Users/snowgtyler/Desktop/validation_photos/images/SAM_14.png: 416x640 (no detections), 25.0ms\n",
      "image 96/180 /Users/snowgtyler/Desktop/validation_photos/images/SAM_15.png: 416x640 (no detections), 10.2ms\n",
      "image 97/180 /Users/snowgtyler/Desktop/validation_photos/images/SAM_16.png: 416x640 1 ICBM, 9.0ms\n",
      "image 98/180 /Users/snowgtyler/Desktop/validation_photos/images/SAM_17.png: 448x640 (no detections), 28.0ms\n",
      "image 99/180 /Users/snowgtyler/Desktop/validation_photos/images/SAM_18.png: 448x640 1 ICBM, 8.4ms\n",
      "image 100/180 /Users/snowgtyler/Desktop/validation_photos/images/SAM_2.png: 544x640 1 MRLS, 60.8ms\n",
      "image 101/180 /Users/snowgtyler/Desktop/validation_photos/images/SAM_5.png: 448x640 (no detections), 36.0ms\n",
      "image 102/180 /Users/snowgtyler/Desktop/validation_photos/images/SAM_6.png: 448x640 (no detections), 9.5ms\n",
      "image 103/180 /Users/snowgtyler/Desktop/validation_photos/images/SAM_7.png: 448x640 (no detections), 15.2ms\n",
      "image 104/180 /Users/snowgtyler/Desktop/validation_photos/images/SAM_8.png: 448x640 (no detections), 12.6ms\n",
      "image 105/180 /Users/snowgtyler/Desktop/validation_photos/images/SAM_9.png: 448x640 (no detections), 9.7ms\n",
      "image 106/180 /Users/snowgtyler/Desktop/validation_photos/images/SC_1.png: 416x640 (no detections), 50.4ms\n",
      "image 107/180 /Users/snowgtyler/Desktop/validation_photos/images/SC_10.png: 416x640 1 SC, 9.3ms\n",
      "image 108/180 /Users/snowgtyler/Desktop/validation_photos/images/SC_11.png: 416x640 1 SC, 14.1ms\n",
      "image 109/180 /Users/snowgtyler/Desktop/validation_photos/images/SC_12.png: 416x640 1 SC, 14.0ms\n",
      "image 110/180 /Users/snowgtyler/Desktop/validation_photos/images/SC_13.png: 416x640 1 SC, 10.7ms\n",
      "image 111/180 /Users/snowgtyler/Desktop/validation_photos/images/SC_14.png: 512x640 1 SC, 73.7ms\n",
      "image 112/180 /Users/snowgtyler/Desktop/validation_photos/images/SC_15.png: 416x640 1 SC, 114.2ms\n",
      "image 113/180 /Users/snowgtyler/Desktop/validation_photos/images/SC_2.png: 480x640 1 SC, 63.2ms\n",
      "image 114/180 /Users/snowgtyler/Desktop/validation_photos/images/SC_3.png: 384x640 1 TNK, 79.4ms\n",
      "image 115/180 /Users/snowgtyler/Desktop/validation_photos/images/SC_4.png: 448x640 1 SC, 49.6ms\n",
      "image 116/180 /Users/snowgtyler/Desktop/validation_photos/images/SC_5.png: 416x640 1 SC, 77.6ms\n",
      "image 117/180 /Users/snowgtyler/Desktop/validation_photos/images/SC_6.png: 512x640 (no detections), 66.2ms\n",
      "image 118/180 /Users/snowgtyler/Desktop/validation_photos/images/SC_7.png: 448x640 1 SC, 34.1ms\n",
      "image 119/180 /Users/snowgtyler/Desktop/validation_photos/images/SC_8.png: 448x640 1 SC, 12.6ms\n",
      "image 120/180 /Users/snowgtyler/Desktop/validation_photos/images/SC_9.png: 448x640 1 SC, 10.1ms\n",
      "image 121/180 /Users/snowgtyler/Desktop/validation_photos/images/SPH_1.png: 416x640 (no detections), 65.1ms\n",
      "image 122/180 /Users/snowgtyler/Desktop/validation_photos/images/SPH_10.png: 448x640 1 SPH, 47.5ms\n",
      "image 123/180 /Users/snowgtyler/Desktop/validation_photos/images/SPH_11.png: 480x640 (no detections), 67.4ms\n",
      "image 124/180 /Users/snowgtyler/Desktop/validation_photos/images/SPH_12.png: 384x640 (no detections), 47.8ms\n",
      "image 125/180 /Users/snowgtyler/Desktop/validation_photos/images/SPH_13.png: 448x640 1 SPH, 33.1ms\n",
      "image 126/180 /Users/snowgtyler/Desktop/validation_photos/images/SPH_14.png: 640x640 1 ICBM, 77.6ms\n",
      "image 127/180 /Users/snowgtyler/Desktop/validation_photos/images/SPH_16.png: 448x640 1 TNK, 41.6ms\n",
      "image 128/180 /Users/snowgtyler/Desktop/validation_photos/images/SPH_2.png: 480x640 1 TNK, 38.4ms\n",
      "image 129/180 /Users/snowgtyler/Desktop/validation_photos/images/SPH_3.png: 448x640 (no detections), 31.7ms\n",
      "image 130/180 /Users/snowgtyler/Desktop/validation_photos/images/SPH_4.png: 384x640 1 TNK, 62.1ms\n",
      "image 131/180 /Users/snowgtyler/Desktop/validation_photos/images/SPH_5.png: 384x640 1 SPH, 12.9ms\n",
      "image 132/180 /Users/snowgtyler/Desktop/validation_photos/images/SPH_6.png: 384x640 1 TNK, 22.3ms\n",
      "image 133/180 /Users/snowgtyler/Desktop/validation_photos/images/SPH_7.png: 576x640 (no detections), 267.1ms\n",
      "image 134/180 /Users/snowgtyler/Desktop/validation_photos/images/SPH_8.png: 480x640 (no detections), 44.8ms\n",
      "image 135/180 /Users/snowgtyler/Desktop/validation_photos/images/SPH_9.png: 480x640 (no detections), 9.5ms\n",
      "image 136/180 /Users/snowgtyler/Desktop/validation_photos/images/SRBM_1.png: 352x640 (no detections), 96.9ms\n",
      "image 137/180 /Users/snowgtyler/Desktop/validation_photos/images/SRBM_11.png: 448x640 (no detections), 92.4ms\n",
      "image 138/180 /Users/snowgtyler/Desktop/validation_photos/images/SRBM_14.png: 448x640 (no detections), 10.3ms\n",
      "image 139/180 /Users/snowgtyler/Desktop/validation_photos/images/SRBM_15.png: 448x640 1 CT, 9.8ms\n",
      "image 140/180 /Users/snowgtyler/Desktop/validation_photos/images/SRBM_16.png: 416x640 1 MRLS, 67.5ms\n",
      "image 141/180 /Users/snowgtyler/Desktop/validation_photos/images/SRBM_17.png: 416x640 1 ICBM, 13.7ms\n",
      "image 142/180 /Users/snowgtyler/Desktop/validation_photos/images/SRBM_18.png: 416x640 1 ICBM, 12.9ms\n",
      "image 143/180 /Users/snowgtyler/Desktop/validation_photos/images/SRBM_2.png: 384x640 (no detections), 77.1ms\n",
      "image 144/180 /Users/snowgtyler/Desktop/validation_photos/images/SRBM_3.png: 288x640 (no detections), 274.9ms\n",
      "image 145/180 /Users/snowgtyler/Desktop/validation_photos/images/SRBM_4.png: 416x640 (no detections), 41.1ms\n",
      "image 146/180 /Users/snowgtyler/Desktop/validation_photos/images/SRBM_5.png: 320x640 1 ICBM, 58.4ms\n",
      "image 147/180 /Users/snowgtyler/Desktop/validation_photos/images/SRBM_6.png: 416x640 (no detections), 41.0ms\n",
      "image 148/180 /Users/snowgtyler/Desktop/validation_photos/images/SRBM_7.png: 416x640 (no detections), 9.2ms\n",
      "image 149/180 /Users/snowgtyler/Desktop/validation_photos/images/SRBM_8.png: 448x640 1 ICBM, 75.5ms\n",
      "image 150/180 /Users/snowgtyler/Desktop/validation_photos/images/SRBM_9.png: 448x640 (no detections), 14.2ms\n",
      "image 151/180 /Users/snowgtyler/Desktop/validation_photos/images/TNK_1.png: 448x640 1 TNK, 17.0ms\n",
      "image 152/180 /Users/snowgtyler/Desktop/validation_photos/images/TNK_10.png: 416x640 1 TNK, 39.8ms\n",
      "image 153/180 /Users/snowgtyler/Desktop/validation_photos/images/TNK_11.png: 416x640 1 TNK, 14.4ms\n",
      "image 154/180 /Users/snowgtyler/Desktop/validation_photos/images/TNK_12.png: 416x640 1 TNK, 13.7ms\n",
      "image 155/180 /Users/snowgtyler/Desktop/validation_photos/images/TNK_13.png: 416x640 1 TNK, 15.3ms\n",
      "image 156/180 /Users/snowgtyler/Desktop/validation_photos/images/TNK_14.png: 416x640 1 TNK, 15.3ms\n",
      "image 157/180 /Users/snowgtyler/Desktop/validation_photos/images/TNK_15.png: 416x640 1 TNK, 9.7ms\n",
      "image 158/180 /Users/snowgtyler/Desktop/validation_photos/images/TNK_2.png: 352x640 (no detections), 78.1ms\n",
      "image 159/180 /Users/snowgtyler/Desktop/validation_photos/images/TNK_3.png: 576x640 (no detections), 61.0ms\n",
      "image 160/180 /Users/snowgtyler/Desktop/validation_photos/images/TNK_4.png: 480x640 (no detections), 49.6ms\n",
      "image 161/180 /Users/snowgtyler/Desktop/validation_photos/images/TNK_5.png: 448x640 1 TNK, 49.5ms\n",
      "image 162/180 /Users/snowgtyler/Desktop/validation_photos/images/TNK_6.png: 512x640 1 TNK, 51.8ms\n",
      "image 163/180 /Users/snowgtyler/Desktop/validation_photos/images/TNK_7.png: 352x640 1 TNK, 109.3ms\n",
      "image 164/180 /Users/snowgtyler/Desktop/validation_photos/images/TNK_8.png: 416x640 1 TNK, 51.9ms\n",
      "image 165/180 /Users/snowgtyler/Desktop/validation_photos/images/TNK_9.png: 416x640 1 SRBM, 11.0ms\n",
      "image 166/180 /Users/snowgtyler/Desktop/validation_photos/images/UAVC_1.png: 416x640 1 UAVC, 10.1ms\n",
      "image 167/180 /Users/snowgtyler/Desktop/validation_photos/images/UAVC_10.png: 416x640 1 CT, 15.2ms\n",
      "image 168/180 /Users/snowgtyler/Desktop/validation_photos/images/UAVC_11.png: 416x640 1 CT, 13.0ms\n",
      "image 169/180 /Users/snowgtyler/Desktop/validation_photos/images/UAVC_12.png: 416x640 1 CT, 13.9ms\n",
      "image 170/180 /Users/snowgtyler/Desktop/validation_photos/images/UAVC_13.png: 416x640 (no detections), 10.4ms\n",
      "image 171/180 /Users/snowgtyler/Desktop/validation_photos/images/UAVC_14.png: 416x640 (no detections), 9.0ms\n",
      "image 172/180 /Users/snowgtyler/Desktop/validation_photos/images/UAVC_15.png: 416x640 (no detections), 14.4ms\n",
      "image 173/180 /Users/snowgtyler/Desktop/validation_photos/images/UAVC_2.png: 320x640 1 UAVC, 65.8ms\n",
      "image 174/180 /Users/snowgtyler/Desktop/validation_photos/images/UAVC_3.png: 416x640 1 CT, 140.4ms\n",
      "image 175/180 /Users/snowgtyler/Desktop/validation_photos/images/UAVC_4.png: 352x640 (no detections), 62.4ms\n",
      "image 176/180 /Users/snowgtyler/Desktop/validation_photos/images/UAVC_5.png: 448x640 (no detections), 55.1ms\n",
      "image 177/180 /Users/snowgtyler/Desktop/validation_photos/images/UAVC_6.png: 352x640 1 UAVC, 28.9ms\n",
      "image 178/180 /Users/snowgtyler/Desktop/validation_photos/images/UAVC_7.png: 352x640 (no detections), 40.4ms\n",
      "image 179/180 /Users/snowgtyler/Desktop/validation_photos/images/UAVC_8.png: 416x640 (no detections), 60.7ms\n",
      "image 180/180 /Users/snowgtyler/Desktop/validation_photos/images/UAVC_9.png: 416x640 (no detections), 9.7ms\n",
      "Speed: 3.6ms preprocess, 57.3ms inference, 50.5ms postprocess per image at shape (1, 3, 416, 640)\n"
     ]
    }
   ],
   "source": [
    "from ultralytics.data.annotator import auto_annotate\n",
    "\n",
    "auto_annotate(\n",
    "    data=\"/Users/snowgtyler/Desktop/validation_photos/images\",  # folder or list of image paths\n",
    "    det_model=\"/Users/snowgtyler/Downloads/Military Vehicles Project/runs/detect/train/weights/best.pt\",  # pretrained detection model\n",
    "    #sam_model=\"mobile_sam.pt\",  # segmentation model-not interested in segmentation masks\n",
    "    device=\"mps\",  # or \"cpu\"\n",
    "    output_dir=\"/Users/snowgtyler/Desktop/validation_photos/labels\",\n",
    "    conf=.10,\n",
    "    max_det = 1\n",
    "\n",
    ")"
   ]
  },
  {
   "cell_type": "code",
   "execution_count": null,
   "id": "2d4c1b69-a861-4a25-bb0e-7cb37ecd707e",
   "metadata": {},
   "outputs": [],
   "source": [
    "# Function to create a YOLO-formatted folder to export to CVAT for verification of bounding box accuracy.\n",
    "from pathlib import Path\n",
    "\n",
    "def gen_YOLO_1_1(folder):\n",
    "    data_path = Path(\"/Users/snowgtyler/Downloads/\")\n",
    "    os.mkdir(data_path / 'YOLO_1_1_export')\n",
    "    # Finish ???\n",
    "    \n",
    "    \n"
   ]
  },
  {
   "cell_type": "code",
   "execution_count": null,
   "id": "a6ff208c-8162-40f9-97b4-680cae41569a",
   "metadata": {},
   "outputs": [],
   "source": [
    "# Expedited the naming and counting of photos for dataset \n",
    "\n",
    "naming_folder = Path('/Users/snowgtyler/Desktop/validation_photos/new_photos/')\n",
    "numbers = list(range(1, 16))\n",
    "class_name = \"SC\"\n",
    "for file in naming_folder.iterdir():\n",
    "    if file.suffix == '.png':\n",
    "        new_file = file.with_stem(f'{class_name}_{numbers.pop(0)}')\n",
    "        file.rename(new_file)\n",
    "\n",
    "\n",
    "        "
   ]
  },
  {
   "cell_type": "code",
   "execution_count": 88,
   "id": "60d45bf2-0ffc-4c36-9603-67d56c87e3e8",
   "metadata": {},
   "outputs": [],
   "source": []
  },
  {
   "cell_type": "code",
   "execution_count": null,
   "id": "e3eb983b-d1d6-456a-94d0-1125146f6201",
   "metadata": {},
   "outputs": [],
   "source": []
  },
  {
   "cell_type": "code",
   "execution_count": 106,
   "id": "76f6c79f-71c4-4b95-a064-38530ecf2d3d",
   "metadata": {},
   "outputs": [],
   "source": [
    "from pathlib import Path\n",
    "from typing import List, Optional, Union\n",
    "\n",
    "from ultralytics import YOLO\n",
    "\n",
    "\n",
    "def auto_annotate_no_SAM(\n",
    "    data: Union[str, Path],\n",
    "    det_model: str = \"yolo11x.pt\",\n",
    "    device: str = \"\",\n",
    "    conf: float = 0.25,\n",
    "    iou: float = 0.45,\n",
    "    imgsz: int = 640,\n",
    "    max_det: int = 300,\n",
    "    classes: Optional[List[int]] = None,\n",
    "    output_dir: Optional[Union[str, Path]] = None,\n",
    ") -> None:\n",
    "    \n",
    "    det_model = YOLO(det_model)\n",
    "\n",
    "    data = Path(data)\n",
    "    \n",
    "    if not output_dir:\n",
    "        output_dir = data.parent / f\"{data.stem}_auto_annotate_labels\"\n",
    "    Path(output_dir).mkdir(exist_ok=True, parents=True)\n",
    "\n",
    "    det_results = det_model(\n",
    "        data, stream=True, device=device, conf=conf, iou=iou, imgsz=imgsz, max_det=max_det, classes=classes\n",
    "    )\n",
    "\n",
    "    \n",
    "    \n",
    "    for result in det_results:\n",
    "        class_ids = result.boxes.cls.int().tolist()  # class indices\n",
    "        boxes_xyxy = result.boxes.xyxy  # shape: [N, 4] with [x1, y1, x2, y2]\n",
    "        img_w, img_h = result.orig_shape[1], result.orig_shape[0]  # width, height\n",
    "\n",
    "        yolo_boxes = []\n",
    "        # Convert to YOLO format: [class_id, x_center, y_center, width, height] normalized\n",
    "        for cls_id, box in zip(class_ids, boxes_xyxy):\n",
    "            x1, y1, x2, y2 = box.tolist()\n",
    "            x_center = ((x1 + x2) / 2) / img_w\n",
    "            y_center = ((y1 + y2) / 2) / img_h\n",
    "            width = (x2 - x1) / img_w\n",
    "            height = (y2 - y1) / img_h\n",
    "            yolo_boxes.append(f'{cls_id} {x_center} {y_center} {width} {height}\\n')\n",
    "        \n",
    "        # if not yolo_boxes: # Does not create .txt file for a photo with \"no detections\"\n",
    "        #     continue\n",
    "            \n",
    "        with open(f\"{Path(output_dir) / Path(result.path).stem}.txt\", \"w\", encoding=\"utf-8\") as f:\n",
    "            for box in yolo_boxes:\n",
    "                f.write(box)\n",
    "                \n",
    "        "
   ]
  },
  {
   "cell_type": "code",
   "execution_count": 108,
   "id": "52c7676c-5a78-46bb-8fae-ec3c46c4268c",
   "metadata": {},
   "outputs": [
    {
     "name": "stdout",
     "output_type": "stream",
     "text": [
      "\n",
      "image 1/180 /Users/snowgtyler/Desktop/test2/obj_train_data/APC_1.png: 448x640 1 SC, 54.9ms\n",
      "image 2/180 /Users/snowgtyler/Desktop/test2/obj_train_data/APC_10.png: 384x640 2 SRBMs, 1 SC, 54.1ms\n",
      "image 3/180 /Users/snowgtyler/Desktop/test2/obj_train_data/APC_11.png: 384x640 1 TNK, 11.8ms\n",
      "image 4/180 /Users/snowgtyler/Desktop/test2/obj_train_data/APC_12.png: 384x640 1 SC, 11.7ms\n",
      "image 5/180 /Users/snowgtyler/Desktop/test2/obj_train_data/APC_13.png: 448x640 1 TNK, 27.6ms\n",
      "image 6/180 /Users/snowgtyler/Desktop/test2/obj_train_data/APC_14.png: 448x640 1 ICBM, 1 SRBM, 8.7ms\n",
      "image 7/180 /Users/snowgtyler/Desktop/test2/obj_train_data/APC_15.png: 448x640 (no detections), 9.6ms\n",
      "image 8/180 /Users/snowgtyler/Desktop/test2/obj_train_data/APC_2.png: 416x640 1 ICBM, 50.8ms\n",
      "image 9/180 /Users/snowgtyler/Desktop/test2/obj_train_data/APC_3.png: 416x640 1 ICBM, 12.6ms\n",
      "image 10/180 /Users/snowgtyler/Desktop/test2/obj_train_data/APC_4.png: 416x640 1 SC, 13.4ms\n",
      "image 11/180 /Users/snowgtyler/Desktop/test2/obj_train_data/APC_5.png: 448x640 1 SC, 28.9ms\n",
      "image 12/180 /Users/snowgtyler/Desktop/test2/obj_train_data/APC_6.png: 320x640 1 SC, 44.7ms\n",
      "image 13/180 /Users/snowgtyler/Desktop/test2/obj_train_data/APC_7.png: 480x640 1 TNK, 63.0ms\n",
      "image 14/180 /Users/snowgtyler/Desktop/test2/obj_train_data/APC_8.png: 416x640 1 SC, 33.7ms\n",
      "image 15/180 /Users/snowgtyler/Desktop/test2/obj_train_data/APC_9.png: 384x640 1 SC, 31.5ms\n",
      "image 16/180 /Users/snowgtyler/Desktop/test2/obj_train_data/CT_1.png: 640x640 1 CT, 35.9ms\n",
      "image 17/180 /Users/snowgtyler/Desktop/test2/obj_train_data/CT_10.png: 512x640 1 ICBM, 51.6ms\n",
      "image 18/180 /Users/snowgtyler/Desktop/test2/obj_train_data/CT_11.png: 512x640 1 SRBM, 1 CT, 14.3ms\n",
      "image 19/180 /Users/snowgtyler/Desktop/test2/obj_train_data/CT_13.png: 512x640 1 CT, 9.2ms\n",
      "image 20/180 /Users/snowgtyler/Desktop/test2/obj_train_data/CT_14.png: 512x640 1 CT, 10.2ms\n",
      "image 21/180 /Users/snowgtyler/Desktop/test2/obj_train_data/CT_15.png: 416x640 1 SRBM, 1 CT, 33.5ms\n",
      "image 22/180 /Users/snowgtyler/Desktop/test2/obj_train_data/CT_16.png: 512x640 1 CT, 1 SC, 28.6ms\n",
      "image 23/180 /Users/snowgtyler/Desktop/test2/obj_train_data/CT_17.png: 352x640 (no detections), 59.6ms\n",
      "image 24/180 /Users/snowgtyler/Desktop/test2/obj_train_data/CT_2.png: 352x640 1 SC, 9.9ms\n",
      "image 25/180 /Users/snowgtyler/Desktop/test2/obj_train_data/CT_3.png: 416x640 1 CT, 29.7ms\n",
      "image 26/180 /Users/snowgtyler/Desktop/test2/obj_train_data/CT_4.png: 512x640 1 CT, 30.5ms\n",
      "image 27/180 /Users/snowgtyler/Desktop/test2/obj_train_data/CT_5.png: 480x640 (no detections), 36.4ms\n",
      "image 28/180 /Users/snowgtyler/Desktop/test2/obj_train_data/CT_7.png: 480x640 1 ICBM, 13.1ms\n",
      "image 29/180 /Users/snowgtyler/Desktop/test2/obj_train_data/CT_8.png: 512x640 1 CT, 35.6ms\n",
      "image 30/180 /Users/snowgtyler/Desktop/test2/obj_train_data/CT_9.png: 416x640 1 CT, 36.2ms\n",
      "image 31/180 /Users/snowgtyler/Desktop/test2/obj_train_data/ICBM_1.png: 416x640 1 ICBM, 11.7ms\n",
      "image 32/180 /Users/snowgtyler/Desktop/test2/obj_train_data/ICMB_10.png: 416x640 1 ICBM, 13.6ms\n",
      "image 33/180 /Users/snowgtyler/Desktop/test2/obj_train_data/ICMB_11.png: 416x640 1 ICBM, 13.2ms\n",
      "image 34/180 /Users/snowgtyler/Desktop/test2/obj_train_data/ICMB_12.png: 416x640 1 ICBM, 12.5ms\n",
      "image 35/180 /Users/snowgtyler/Desktop/test2/obj_train_data/ICMB_13.png: 416x640 1 ICBM, 12.9ms\n",
      "image 36/180 /Users/snowgtyler/Desktop/test2/obj_train_data/ICMB_14.png: 416x640 1 ICBM, 12.2ms\n",
      "image 37/180 /Users/snowgtyler/Desktop/test2/obj_train_data/ICMB_15.png: 320x640 2 ICBMs, 50.6ms\n",
      "image 38/180 /Users/snowgtyler/Desktop/test2/obj_train_data/ICMB_2.png: 416x640 1 ICBM, 28.4ms\n",
      "image 39/180 /Users/snowgtyler/Desktop/test2/obj_train_data/ICMB_3.png: 384x640 1 ICBM, 47.8ms\n",
      "image 40/180 /Users/snowgtyler/Desktop/test2/obj_train_data/ICMB_4.png: 416x640 2 ICBMs, 1 SPH, 30.4ms\n",
      "image 41/180 /Users/snowgtyler/Desktop/test2/obj_train_data/ICMB_5.png: 416x640 1 ICBM, 12.3ms\n",
      "image 42/180 /Users/snowgtyler/Desktop/test2/obj_train_data/ICMB_6.png: 416x640 1 ICBM, 15.6ms\n",
      "image 43/180 /Users/snowgtyler/Desktop/test2/obj_train_data/ICMB_7.png: 416x640 1 SRBM, 13.2ms\n",
      "image 44/180 /Users/snowgtyler/Desktop/test2/obj_train_data/ICMB_8.png: 416x640 1 ICBM, 12.5ms\n",
      "image 45/180 /Users/snowgtyler/Desktop/test2/obj_train_data/ICMB_9.png: 416x640 1 ICBM, 13.4ms\n",
      "image 46/180 /Users/snowgtyler/Desktop/test2/obj_train_data/IFV_1.png: 416x640 1 ICBM, 12.1ms\n",
      "image 47/180 /Users/snowgtyler/Desktop/test2/obj_train_data/IFV_10.png: 416x640 (no detections), 9.0ms\n",
      "image 48/180 /Users/snowgtyler/Desktop/test2/obj_train_data/IFV_11.png: 416x640 1 ICBM, 9.5ms\n",
      "image 49/180 /Users/snowgtyler/Desktop/test2/obj_train_data/IFV_12.png: 416x640 (no detections), 10.0ms\n",
      "image 50/180 /Users/snowgtyler/Desktop/test2/obj_train_data/IFV_13.png: 416x640 1 ICBM, 9.7ms\n",
      "image 51/180 /Users/snowgtyler/Desktop/test2/obj_train_data/IFV_14.png: 416x640 1 TNK, 10.2ms\n",
      "image 52/180 /Users/snowgtyler/Desktop/test2/obj_train_data/IFV_15.png: 416x640 1 ICBM, 9.6ms\n",
      "image 53/180 /Users/snowgtyler/Desktop/test2/obj_train_data/IFV_16.png: 416x640 (no detections), 10.7ms\n",
      "image 54/180 /Users/snowgtyler/Desktop/test2/obj_train_data/IFV_2.png: 416x640 1 TNK, 11.4ms\n",
      "image 55/180 /Users/snowgtyler/Desktop/test2/obj_train_data/IFV_3.png: 416x640 1 TNK, 12.6ms\n",
      "image 56/180 /Users/snowgtyler/Desktop/test2/obj_train_data/IFV_4.png: 416x640 2 TNKs, 10.3ms\n",
      "image 57/180 /Users/snowgtyler/Desktop/test2/obj_train_data/IFV_5.png: 640x640 (no detections), 41.8ms\n",
      "image 58/180 /Users/snowgtyler/Desktop/test2/obj_train_data/IFV_7.png: 352x640 1 TNK, 34.8ms\n",
      "image 59/180 /Users/snowgtyler/Desktop/test2/obj_train_data/IFV_8.png: 384x640 1 TNK, 30.3ms\n",
      "image 60/180 /Users/snowgtyler/Desktop/test2/obj_train_data/IFV_9.png: 416x640 1 ICBM, 41.3ms\n",
      "image 61/180 /Users/snowgtyler/Desktop/test2/obj_train_data/IMV_1.png: 448x640 1 SC, 45.5ms\n",
      "image 62/180 /Users/snowgtyler/Desktop/test2/obj_train_data/IMV_10.png: 448x640 (no detections), 12.8ms\n",
      "image 63/180 /Users/snowgtyler/Desktop/test2/obj_train_data/IMV_11.png: 480x640 1 ICBM, 42.5ms\n",
      "image 64/180 /Users/snowgtyler/Desktop/test2/obj_train_data/IMV_12.png: 480x640 (no detections), 13.6ms\n",
      "image 65/180 /Users/snowgtyler/Desktop/test2/obj_train_data/IMV_13.png: 480x640 1 ICBM, 12.8ms\n",
      "image 66/180 /Users/snowgtyler/Desktop/test2/obj_train_data/IMV_14.png: 480x640 (no detections), 9.0ms\n",
      "image 67/180 /Users/snowgtyler/Desktop/test2/obj_train_data/IMV_15.png: 384x640 1 SC, 36.5ms\n",
      "image 68/180 /Users/snowgtyler/Desktop/test2/obj_train_data/IMV_2.png: 480x640 1 ICBM, 29.1ms\n",
      "image 69/180 /Users/snowgtyler/Desktop/test2/obj_train_data/IMV_3.png: 416x640 1 CT, 38.2ms\n",
      "image 70/180 /Users/snowgtyler/Desktop/test2/obj_train_data/IMV_4.png: 416x640 1 SC, 12.9ms\n",
      "image 71/180 /Users/snowgtyler/Desktop/test2/obj_train_data/IMV_5.png: 416x640 1 SC, 12.8ms\n",
      "image 72/180 /Users/snowgtyler/Desktop/test2/obj_train_data/IMV_6.png: 384x640 2 SRBMs, 29.9ms\n",
      "image 73/180 /Users/snowgtyler/Desktop/test2/obj_train_data/IMV_7.png: 384x640 1 SRBM, 1 CT, 10.9ms\n",
      "image 74/180 /Users/snowgtyler/Desktop/test2/obj_train_data/IMV_8.png: 384x640 2 SRBMs, 1 SC, 12.5ms\n",
      "image 75/180 /Users/snowgtyler/Desktop/test2/obj_train_data/IMV_9.png: 384x640 1 CT, 1 SC, 12.3ms\n",
      "image 76/180 /Users/snowgtyler/Desktop/test2/obj_train_data/MLRS_1.png: 384x640 1 MRLS, 11.3ms\n",
      "image 77/180 /Users/snowgtyler/Desktop/test2/obj_train_data/MLRS_10.png: 416x640 1 TNK, 30.4ms\n",
      "image 78/180 /Users/snowgtyler/Desktop/test2/obj_train_data/MLRS_11.png: 544x640 1 CT, 60.6ms\n",
      "image 79/180 /Users/snowgtyler/Desktop/test2/obj_train_data/MLRS_12.png: 448x640 (no detections), 32.5ms\n",
      "image 80/180 /Users/snowgtyler/Desktop/test2/obj_train_data/MLRS_13.png: 544x640 1 ICBM, 1 MRLS, 95.1ms\n",
      "image 81/180 /Users/snowgtyler/Desktop/test2/obj_train_data/MLRS_14.png: 352x640 2 CTs, 39.9ms\n",
      "image 82/180 /Users/snowgtyler/Desktop/test2/obj_train_data/MLRS_15.png: 448x640 1 ICBM, 28.4ms\n",
      "image 83/180 /Users/snowgtyler/Desktop/test2/obj_train_data/MLRS_2.png: 416x640 (no detections), 31.3ms\n",
      "image 84/180 /Users/snowgtyler/Desktop/test2/obj_train_data/MLRS_3.png: 352x640 1 CT, 25.0ms\n",
      "image 85/180 /Users/snowgtyler/Desktop/test2/obj_train_data/MLRS_4.png: 352x640 1 TNK, 8.9ms\n",
      "image 86/180 /Users/snowgtyler/Desktop/test2/obj_train_data/MLRS_5.png: 384x640 1 SPH, 37.1ms\n",
      "image 87/180 /Users/snowgtyler/Desktop/test2/obj_train_data/MLRS_6.png: 384x640 (no detections), 11.0ms\n",
      "image 88/180 /Users/snowgtyler/Desktop/test2/obj_train_data/MLRS_7.png: 384x640 1 TNK, 1 SRBM, 11.4ms\n",
      "image 89/180 /Users/snowgtyler/Desktop/test2/obj_train_data/MLRS_8.png: 384x640 1 CT, 1 SC, 11.0ms\n",
      "image 90/180 /Users/snowgtyler/Desktop/test2/obj_train_data/MLRS_9.png: 384x640 1 MRLS, 1 SRBM, 11.2ms\n",
      "image 91/180 /Users/snowgtyler/Desktop/test2/obj_train_data/SAM_1.png: 352x640 (no detections), 26.5ms\n",
      "image 92/180 /Users/snowgtyler/Desktop/test2/obj_train_data/SAM_10.png: 352x640 (no detections), 9.9ms\n",
      "image 93/180 /Users/snowgtyler/Desktop/test2/obj_train_data/SAM_11.png: 416x640 (no detections), 51.7ms\n",
      "image 94/180 /Users/snowgtyler/Desktop/test2/obj_train_data/SAM_13.png: 448x640 2 ICBMs, 34.0ms\n",
      "image 95/180 /Users/snowgtyler/Desktop/test2/obj_train_data/SAM_14.png: 416x640 (no detections), 28.7ms\n",
      "image 96/180 /Users/snowgtyler/Desktop/test2/obj_train_data/SAM_15.png: 416x640 1 SRBM, 12.1ms\n",
      "image 97/180 /Users/snowgtyler/Desktop/test2/obj_train_data/SAM_16.png: 416x640 1 ICBM, 12.3ms\n",
      "image 98/180 /Users/snowgtyler/Desktop/test2/obj_train_data/SAM_17.png: 448x640 1 SPH, 33.1ms\n",
      "image 99/180 /Users/snowgtyler/Desktop/test2/obj_train_data/SAM_18.png: 448x640 1 ICBM, 1 SRBM, 9.7ms\n",
      "image 100/180 /Users/snowgtyler/Desktop/test2/obj_train_data/SAM_2.png: 544x640 1 MRLS, 32.8ms\n",
      "image 101/180 /Users/snowgtyler/Desktop/test2/obj_train_data/SAM_5.png: 448x640 (no detections), 25.1ms\n",
      "image 102/180 /Users/snowgtyler/Desktop/test2/obj_train_data/SAM_6.png: 448x640 (no detections), 11.7ms\n",
      "image 103/180 /Users/snowgtyler/Desktop/test2/obj_train_data/SAM_7.png: 448x640 1 ICBM, 12.7ms\n",
      "image 104/180 /Users/snowgtyler/Desktop/test2/obj_train_data/SAM_8.png: 448x640 (no detections), 12.3ms\n",
      "image 105/180 /Users/snowgtyler/Desktop/test2/obj_train_data/SAM_9.png: 448x640 1 SC, 9.1ms\n",
      "image 106/180 /Users/snowgtyler/Desktop/test2/obj_train_data/SC_1.png: 416x640 1 ICBM, 32.4ms\n",
      "image 107/180 /Users/snowgtyler/Desktop/test2/obj_train_data/SC_10.png: 416x640 1 SC, 9.2ms\n",
      "image 108/180 /Users/snowgtyler/Desktop/test2/obj_train_data/SC_11.png: 416x640 1 SC, 9.8ms\n",
      "image 109/180 /Users/snowgtyler/Desktop/test2/obj_train_data/SC_12.png: 416x640 1 SC, 11.1ms\n",
      "image 110/180 /Users/snowgtyler/Desktop/test2/obj_train_data/SC_13.png: 416x640 1 SC, 11.0ms\n",
      "image 111/180 /Users/snowgtyler/Desktop/test2/obj_train_data/SC_14.png: 512x640 1 SC, 53.0ms\n",
      "image 112/180 /Users/snowgtyler/Desktop/test2/obj_train_data/SC_15.png: 416x640 2 SCs, 29.7ms\n",
      "image 113/180 /Users/snowgtyler/Desktop/test2/obj_train_data/SC_2.png: 480x640 1 SC, 38.4ms\n",
      "image 114/180 /Users/snowgtyler/Desktop/test2/obj_train_data/SC_3.png: 384x640 1 TNK, 1 SC, 42.0ms\n",
      "image 115/180 /Users/snowgtyler/Desktop/test2/obj_train_data/SC_4.png: 448x640 1 SC, 31.5ms\n",
      "image 116/180 /Users/snowgtyler/Desktop/test2/obj_train_data/SC_5.png: 416x640 1 SC, 29.2ms\n",
      "image 117/180 /Users/snowgtyler/Desktop/test2/obj_train_data/SC_6.png: 512x640 (no detections), 30.0ms\n",
      "image 118/180 /Users/snowgtyler/Desktop/test2/obj_train_data/SC_7.png: 448x640 1 SC, 25.3ms\n",
      "image 119/180 /Users/snowgtyler/Desktop/test2/obj_train_data/SC_8.png: 448x640 1 SC, 11.6ms\n",
      "image 120/180 /Users/snowgtyler/Desktop/test2/obj_train_data/SC_9.png: 448x640 1 SC, 9.7ms\n",
      "image 121/180 /Users/snowgtyler/Desktop/test2/obj_train_data/SPH_1.png: 416x640 (no detections), 26.9ms\n",
      "image 122/180 /Users/snowgtyler/Desktop/test2/obj_train_data/SPH_10.png: 448x640 1 SPH, 26.9ms\n",
      "image 123/180 /Users/snowgtyler/Desktop/test2/obj_train_data/SPH_11.png: 480x640 (no detections), 35.0ms\n",
      "image 124/180 /Users/snowgtyler/Desktop/test2/obj_train_data/SPH_12.png: 384x640 (no detections), 32.9ms\n",
      "image 125/180 /Users/snowgtyler/Desktop/test2/obj_train_data/SPH_13.png: 448x640 1 SPH, 35.5ms\n",
      "image 126/180 /Users/snowgtyler/Desktop/test2/obj_train_data/SPH_14.png: 640x640 1 ICBM, 46.1ms\n",
      "image 127/180 /Users/snowgtyler/Desktop/test2/obj_train_data/SPH_16.png: 448x640 1 TNK, 26.1ms\n",
      "image 128/180 /Users/snowgtyler/Desktop/test2/obj_train_data/SPH_2.png: 480x640 2 TNKs, 31.0ms\n",
      "image 129/180 /Users/snowgtyler/Desktop/test2/obj_train_data/SPH_3.png: 448x640 1 UAVC, 26.2ms\n",
      "image 130/180 /Users/snowgtyler/Desktop/test2/obj_train_data/SPH_4.png: 384x640 2 TNKs, 1 SRBM, 36.2ms\n",
      "image 131/180 /Users/snowgtyler/Desktop/test2/obj_train_data/SPH_5.png: 384x640 1 SPH, 2 SRBMs, 11.4ms\n",
      "image 132/180 /Users/snowgtyler/Desktop/test2/obj_train_data/SPH_6.png: 384x640 1 TNK, 11.6ms\n",
      "image 133/180 /Users/snowgtyler/Desktop/test2/obj_train_data/SPH_7.png: 576x640 1 ICBM, 53.6ms\n",
      "image 134/180 /Users/snowgtyler/Desktop/test2/obj_train_data/SPH_8.png: 480x640 1 TNK, 40.6ms\n",
      "image 135/180 /Users/snowgtyler/Desktop/test2/obj_train_data/SPH_9.png: 480x640 1 SRBM, 1 IFV, 10.8ms\n",
      "image 136/180 /Users/snowgtyler/Desktop/test2/obj_train_data/SRBM_1.png: 352x640 (no detections), 40.9ms\n",
      "image 137/180 /Users/snowgtyler/Desktop/test2/obj_train_data/SRBM_11.png: 448x640 1 CT, 39.8ms\n",
      "image 138/180 /Users/snowgtyler/Desktop/test2/obj_train_data/SRBM_14.png: 448x640 1 SRBM, 11.1ms\n",
      "image 139/180 /Users/snowgtyler/Desktop/test2/obj_train_data/SRBM_15.png: 448x640 1 TNK, 1 SRBM, 1 CT, 9.3ms\n",
      "image 140/180 /Users/snowgtyler/Desktop/test2/obj_train_data/SRBM_16.png: 416x640 1 MRLS, 43.5ms\n",
      "image 141/180 /Users/snowgtyler/Desktop/test2/obj_train_data/SRBM_17.png: 416x640 1 ICBM, 11.5ms\n",
      "image 142/180 /Users/snowgtyler/Desktop/test2/obj_train_data/SRBM_18.png: 416x640 1 ICBM, 11.6ms\n",
      "image 143/180 /Users/snowgtyler/Desktop/test2/obj_train_data/SRBM_2.png: 384x640 (no detections), 49.2ms\n",
      "image 144/180 /Users/snowgtyler/Desktop/test2/obj_train_data/SRBM_3.png: 288x640 1 SRBM, 54.4ms\n",
      "image 145/180 /Users/snowgtyler/Desktop/test2/obj_train_data/SRBM_4.png: 416x640 (no detections), 25.9ms\n",
      "image 146/180 /Users/snowgtyler/Desktop/test2/obj_train_data/SRBM_5.png: 320x640 1 ICBM, 53.2ms\n",
      "image 147/180 /Users/snowgtyler/Desktop/test2/obj_train_data/SRBM_6.png: 416x640 (no detections), 29.2ms\n",
      "image 148/180 /Users/snowgtyler/Desktop/test2/obj_train_data/SRBM_7.png: 416x640 (no detections), 10.9ms\n",
      "image 149/180 /Users/snowgtyler/Desktop/test2/obj_train_data/SRBM_8.png: 448x640 1 ICBM, 38.9ms\n",
      "image 150/180 /Users/snowgtyler/Desktop/test2/obj_train_data/SRBM_9.png: 448x640 1 SRBM, 11.8ms\n",
      "image 151/180 /Users/snowgtyler/Desktop/test2/obj_train_data/TNK_1.png: 448x640 1 TNK, 9.7ms\n",
      "image 152/180 /Users/snowgtyler/Desktop/test2/obj_train_data/TNK_10.png: 416x640 1 TNK, 26.2ms\n",
      "image 153/180 /Users/snowgtyler/Desktop/test2/obj_train_data/TNK_11.png: 416x640 1 TNK, 10.6ms\n",
      "image 154/180 /Users/snowgtyler/Desktop/test2/obj_train_data/TNK_12.png: 416x640 2 TNKs, 10.7ms\n",
      "image 155/180 /Users/snowgtyler/Desktop/test2/obj_train_data/TNK_13.png: 416x640 1 TNK, 11.1ms\n",
      "image 156/180 /Users/snowgtyler/Desktop/test2/obj_train_data/TNK_14.png: 416x640 1 TNK, 10.1ms\n",
      "image 157/180 /Users/snowgtyler/Desktop/test2/obj_train_data/TNK_15.png: 416x640 1 TNK, 11.8ms\n",
      "image 158/180 /Users/snowgtyler/Desktop/test2/obj_train_data/TNK_2.png: 352x640 1 TNK, 39.0ms\n",
      "image 159/180 /Users/snowgtyler/Desktop/test2/obj_train_data/TNK_3.png: 576x640 (no detections), 33.5ms\n",
      "image 160/180 /Users/snowgtyler/Desktop/test2/obj_train_data/TNK_4.png: 480x640 (no detections), 36.0ms\n",
      "image 161/180 /Users/snowgtyler/Desktop/test2/obj_train_data/TNK_5.png: 448x640 1 TNK, 33.9ms\n",
      "image 162/180 /Users/snowgtyler/Desktop/test2/obj_train_data/TNK_6.png: 512x640 1 TNK, 53.1ms\n",
      "image 163/180 /Users/snowgtyler/Desktop/test2/obj_train_data/TNK_7.png: 352x640 1 TNK, 32.9ms\n",
      "image 164/180 /Users/snowgtyler/Desktop/test2/obj_train_data/TNK_8.png: 416x640 1 TNK, 33.7ms\n",
      "image 165/180 /Users/snowgtyler/Desktop/test2/obj_train_data/TNK_9.png: 416x640 1 TNK, 2 SRBMs, 11.4ms\n",
      "image 166/180 /Users/snowgtyler/Desktop/test2/obj_train_data/UAVC_1.png: 416x640 1 UAVC, 10.5ms\n",
      "image 167/180 /Users/snowgtyler/Desktop/test2/obj_train_data/UAVC_10.png: 416x640 1 CT, 11.9ms\n",
      "image 168/180 /Users/snowgtyler/Desktop/test2/obj_train_data/UAVC_11.png: 416x640 1 TNK, 1 CT, 10.3ms\n",
      "image 169/180 /Users/snowgtyler/Desktop/test2/obj_train_data/UAVC_12.png: 416x640 1 CT, 11.8ms\n",
      "image 170/180 /Users/snowgtyler/Desktop/test2/obj_train_data/UAVC_13.png: 416x640 (no detections), 12.1ms\n",
      "image 171/180 /Users/snowgtyler/Desktop/test2/obj_train_data/UAVC_14.png: 416x640 (no detections), 12.8ms\n",
      "image 172/180 /Users/snowgtyler/Desktop/test2/obj_train_data/UAVC_15.png: 416x640 1 CT, 10.2ms\n",
      "image 173/180 /Users/snowgtyler/Desktop/test2/obj_train_data/UAVC_2.png: 320x640 3 UAVCs, 35.2ms\n",
      "image 174/180 /Users/snowgtyler/Desktop/test2/obj_train_data/UAVC_3.png: 416x640 1 CT, 24.0ms\n",
      "image 175/180 /Users/snowgtyler/Desktop/test2/obj_train_data/UAVC_4.png: 352x640 1 UAVC, 1 CT, 23.3ms\n",
      "image 176/180 /Users/snowgtyler/Desktop/test2/obj_train_data/UAVC_5.png: 448x640 (no detections), 33.8ms\n",
      "image 177/180 /Users/snowgtyler/Desktop/test2/obj_train_data/UAVC_6.png: 352x640 2 UAVCs, 36.4ms\n",
      "image 178/180 /Users/snowgtyler/Desktop/test2/obj_train_data/UAVC_7.png: 352x640 (no detections), 11.6ms\n",
      "image 179/180 /Users/snowgtyler/Desktop/test2/obj_train_data/UAVC_8.png: 416x640 (no detections), 32.2ms\n",
      "image 180/180 /Users/snowgtyler/Desktop/test2/obj_train_data/UAVC_9.png: 416x640 (no detections), 9.7ms\n",
      "Speed: 1.5ms preprocess, 24.8ms inference, 5.8ms postprocess per image at shape (1, 3, 416, 640)\n"
     ]
    }
   ],
   "source": [
    "auto_annotate_no_SAM(\n",
    "    data=\"/Users/snowgtyler/Desktop/test2/obj_train_data\",  # folder or list of image paths\n",
    "    det_model=\"/Users/snowgtyler/Downloads/Military Vehicles Project/runs/detect/train/weights/best.pt\",  # pretrained detection model\n",
    "    device=\"mps\",  # or \"cpu\"\n",
    "    output_dir=\"/Users/snowgtyler/Desktop/test2/obj_train_data\",\n",
    "    conf=.10,\n",
    "    max_det = 3\n",
    "\n",
    ")"
   ]
  },
  {
   "cell_type": "code",
   "execution_count": 90,
   "id": "5fe6622f-ae40-451b-8634-d48a7a693c65",
   "metadata": {},
   "outputs": [
    {
     "name": "stdout",
     "output_type": "stream",
     "text": [
      "empty\n"
     ]
    }
   ],
   "source": [
    "test = []\n",
    "if not test:\n",
    "    print('empty')\n",
    "else:\n",
    "    print('full')"
   ]
  },
  {
   "cell_type": "code",
   "execution_count": null,
   "id": "975a0ef0-67fc-4f75-9430-8cf7f5a93a9c",
   "metadata": {},
   "outputs": [],
   "source": []
  }
 ],
 "metadata": {
  "kernelspec": {
   "display_name": "Python 3 (ipykernel)",
   "language": "python",
   "name": "python3"
  },
  "language_info": {
   "codemirror_mode": {
    "name": "ipython",
    "version": 3
   },
   "file_extension": ".py",
   "mimetype": "text/x-python",
   "name": "python",
   "nbconvert_exporter": "python",
   "pygments_lexer": "ipython3",
   "version": "3.12.4"
  }
 },
 "nbformat": 4,
 "nbformat_minor": 5
}
